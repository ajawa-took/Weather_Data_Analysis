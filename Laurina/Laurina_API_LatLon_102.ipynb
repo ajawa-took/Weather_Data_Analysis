{
 "cells": [
  {
   "cell_type": "code",
   "execution_count": 21,
   "id": "fc528262",
   "metadata": {},
   "outputs": [],
   "source": [
    "import requests\n",
    "import pandas as pd"
   ]
  },
  {
   "cell_type": "code",
   "execution_count": 17,
   "id": "53dffe6b",
   "metadata": {},
   "outputs": [
    {
     "name": "stdout",
     "output_type": "stream",
     "text": [
      "Enter a Country using a 2-letter (US) or 3-letter (USA) country code: us\n",
      "Enter a region (City, County, State, etc.): washington\n",
      "Enter a location (City, Zip Code, etc.): seattle\n",
      "us washington seattle\n"
     ]
    }
   ],
   "source": [
    "country_input = (input(\"Enter a Country using a 2-letter (US) or 3-letter (USA) country code: \"))\n",
    "region_input = (input(\"Enter a region (City, County, State, etc.): \"))\n",
    "query_input = (input(\"Enter a location (City, Zip Code, etc.): \"))\n",
    "\n",
    "print(\n",
    "    country_input,\n",
    "    region_input,\n",
    "    query_input\n",
    ")"
   ]
  },
  {
   "cell_type": "code",
   "execution_count": 18,
   "id": "f43e25f1",
   "metadata": {},
   "outputs": [
    {
     "name": "stdout",
     "output_type": "stream",
     "text": [
      "{\"data\":[]}\n"
     ]
    }
   ],
   "source": [
    "import http.client, urllib.parse\n",
    "\n",
    "conn = http.client.HTTPConnection('api.positionstack.com')\n",
    "\n",
    "params = urllib.parse.urlencode({\n",
    "    'access_key': '1fbf7de4ce05274e9b9005659970c429',\n",
    "    \n",
    "    # Variables get live user input above.\n",
    "    'country': country_input,\n",
    "    'region': region_input,\n",
    "    'query': query_input,\n",
    "\n",
    "    # \"limit\" of 1 ensures only 1 Lat/Lon will be passed below.    \n",
    "    'limit': 1\n",
    "    })\n",
    "\n",
    "conn.request('GET', '/v1/forward?{}'.format(params))\n",
    "\n",
    "res = conn.getresponse()\n",
    "geo = res.read()\n",
    "data_str = (geo.decode('utf-8'))\n",
    "\n",
    "print(geo.decode('utf-8'))\n",
    "\n"
   ]
  },
  {
   "cell_type": "code",
   "execution_count": 19,
   "id": "9f34e1b3",
   "metadata": {},
   "outputs": [
    {
     "data": {
      "text/plain": [
       "str"
      ]
     },
     "execution_count": 19,
     "metadata": {},
     "output_type": "execute_result"
    }
   ],
   "source": [
    "# Help from AskBCS:\n",
    "# Result was one long string, that only looked \n",
    "# like a dictionary, but wasn't.\n",
    "# Use \"type()\" to identify whether or not \n",
    "# result is actually a dict.\n",
    "type(data_str)"
   ]
  },
  {
   "cell_type": "code",
   "execution_count": 20,
   "id": "c63def54",
   "metadata": {},
   "outputs": [
    {
     "name": "stdout",
     "output_type": "stream",
     "text": [
      "{'data': []}\n"
     ]
    }
   ],
   "source": [
    "# Convert string to json (which is a dictionary).\n",
    "\n",
    "# data_json\n",
    "\n",
    "import json\n",
    "data_json = json.loads(data_str)\n",
    "\n",
    "print(data_json)"
   ]
  },
  {
   "cell_type": "code",
   "execution_count": 13,
   "id": "1c6e9a64",
   "metadata": {},
   "outputs": [],
   "source": [
    "# data_json_coord\n",
    "\n",
    "data_json_coord = data_json['data']\n",
    "\n",
    "coord = []\n",
    "for x in data_json_coord:\n",
    "    coord.append((x['latitude'], x['longitude']))"
   ]
  },
  {
   "cell_type": "code",
   "execution_count": 14,
   "id": "39986a3b",
   "metadata": {},
   "outputs": [],
   "source": [
    "# data_json_geo\n",
    "\n",
    "data_json_geo = data_json['data']\n",
    "\n",
    "geo = []\n",
    "for x in data_json_geo:\n",
    "    geo.append((x['name'], x['region'], x['country']))"
   ]
  },
  {
   "cell_type": "code",
   "execution_count": 15,
   "id": "bda30455",
   "metadata": {},
   "outputs": [
    {
     "name": "stdout",
     "output_type": "stream",
     "text": [
      "[] []\n"
     ]
    }
   ],
   "source": [
    "print(\n",
    "      geo,\n",
    "      coord\n",
    "     )"
   ]
  },
  {
   "cell_type": "code",
   "execution_count": null,
   "id": "77029524",
   "metadata": {},
   "outputs": [],
   "source": []
  },
  {
   "cell_type": "markdown",
   "id": "c5ab0c5f",
   "metadata": {},
   "source": [
    "HTTP GET Request Parameters:\n",
    "\n",
    "Object\tDescription\n",
    "\n",
    "access_key\t[Required] Your API access key, which can be found in your acccount dashboard.\n",
    "\n",
    "## query\t[Required] Specify your query as a free-text address, place name or using any other common text-based location identifier (e.g. postal code, city name, region name).\n",
    "\n",
    "country\t[Optional] Filter geocoding results by one or multiple comma-separated 2-letter (e.g. AU) or 3-letter country codes (e.g. AUS). Example: country=AU,CA to filter by Australia and Canada.\n",
    "Download: Supported Countries (CSV)\n",
    "\n",
    "region\t[Optional] Filter geocoding results by specifying a region. This could be a neighbourhood, district, city, county, state or administrative area. Example: region=Berlin to filter by locations in Berlin.\n",
    "\n",
    "language\t[Optional] Translate specific API response objects by specifying the 2-letter (e.g. en) or the 3-letter code (e.g. eng) of your preferred language. (Default: English)\n",
    "\n",
    "country_module\t[Optional] Set to 1 in order to enable the Country Module to include more extensive country data in your API response. Read more about this in the Country Module section.\n",
    "\n",
    "sun_module\t[Optional] Set to 1 in order to enable the Sun Module to include astrology data in your API response. Read more about this in the Sun Module section.\n",
    "\n",
    "timezone_module\t[Optional] Set to 1 in order to enable the Timezone Module to include timezone data in your API response. Read more about this in the Timezone Module section.\n",
    "\n",
    "bbox_module\t[Optional] Set to 1 in order to enable the Bounding Box Module to include boundary coordinates in your API response. Read more about this in the Bounding Box Module section.\n",
    "\n",
    "limit\t[Optional] Specify a limit between 1 and 80 to limit the number of results returned per geocoding query. Batch requests can contain multiple geocoding queries. (Default: 10 results)\n",
    "\n",
    "fields\t[Optional] Specify one or multiple response field(s) to decrease API response size. Learn how to use this option in the Specify Response Fields section.\n",
    "\n",
    "output\t[Optional] Specify your preferred API output format. Available values: json (default), xml and geojson.\n",
    "\n",
    "callback\t[Optional] Use this parameter to specify a JSONP callback function name to wrap your API response in. Learn more about JSONP Callbacks."
   ]
  },
  {
   "cell_type": "code",
   "execution_count": null,
   "id": "6082abea",
   "metadata": {},
   "outputs": [],
   "source": []
  }
 ],
 "metadata": {
  "kernelspec": {
   "display_name": "PythonData",
   "language": "python",
   "name": "myenv"
  },
  "language_info": {
   "codemirror_mode": {
    "name": "ipython",
    "version": 3
   },
   "file_extension": ".py",
   "mimetype": "text/x-python",
   "name": "python",
   "nbconvert_exporter": "python",
   "pygments_lexer": "ipython3",
   "version": "3.9.12"
  }
 },
 "nbformat": 4,
 "nbformat_minor": 5
}
