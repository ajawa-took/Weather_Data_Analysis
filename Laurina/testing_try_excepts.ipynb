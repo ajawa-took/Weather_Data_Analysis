{
 "cells": [
  {
   "cell_type": "code",
   "execution_count": 1,
   "id": "ff2b8fc0",
   "metadata": {},
   "outputs": [],
   "source": [
    "import datetime\n",
    "# for position API\n",
    "import http.client\n",
    "import json\n",
    "import urllib.parse\n",
    "\n",
    "import numpy as np\n",
    "import pandas as pd\n",
    "import requests"
   ]
  },
  {
   "cell_type": "code",
   "execution_count": 67,
   "id": "a648109e",
   "metadata": {},
   "outputs": [],
   "source": [
    "# Assigning default values to function arguments, in case user entries are missing.\n",
    "def get_hourly_weather_url(latitude=0, longitude=0, start_year='2001', end_year='2019'):\n",
    "\n",
    "    url_snip_hr = {}\n",
    "    # Break URL into snippets to be assembled below, hourly:\n",
    "    url_snip_hr[1] = \"https://archive-api.open-meteo.com/v1/era5?latitude=\" \n",
    "    url_snip_hr[2] = str(latitude)\n",
    "    url_snip_hr[3] = \"&longitude=\"\n",
    "    url_snip_hr[4] = str(longitude)\n",
    "    url_snip_hr[5] = \"&start_date=\"\n",
    "    url_snip_hr[6] = str(start_year)\n",
    "    url_snip_hr[7] = \"-01-01&end_date=\"  # month and day of start_year    \n",
    "    url_snip_hr[8] = str(end_year)\n",
    "    url_snip_hr[9] = \"-12-31&hourly=\"   # elements, hourly\n",
    "    url_snip_hr[10] = \"temperature_2m,\"   # data element\n",
    "    url_snip_hr[11] = \"relativehumidity_2m,\"   # data element\n",
    "    url_snip_hr[12] = \"rain,\"   # data element\n",
    "    url_snip_hr[13] = \"snowfall,\"   # data element\n",
    "    url_snip_hr[14] = \"cloudcover,\"   # data element\n",
    "    url_snip_hr[15] = \"windspeed_10m,\"   # data element\n",
    "    url_snip_hr[16] = \"winddirection_10m\"   # data element\n",
    "    url_snip_hr[17] = \"&timezone=America%2FLos_Angeles\"   # time zone\n",
    "    url_snip_hr[18] = \"&temperature_unit=fahrenheit\"   # temp unit\n",
    "    url_snip_hr[19] = \"&windspeed_unit=mph\"   # windspeed unit\n",
    "    url_snip_hr[20] = \"&precipitation_unit=inch\"   # precip unit\n",
    "    weather_url_hr = \"\"\n",
    "    for i in range(20):\n",
    "        weather_url_hr += url_snip_hr[i+1]\n",
    "    return weather_url_hr"
   ]
  },
  {
   "cell_type": "code",
   "execution_count": 68,
   "id": "56a2c445",
   "metadata": {
    "scrolled": false
   },
   "outputs": [
    {
     "data": {
      "text/plain": [
       "'https://archive-api.open-meteo.com/v1/era5?latitude=37.865832&longitude=-122.297864&start_date=2010-01-01&end_date=2019-12-31&hourly=temperature_2m,relativehumidity_2m,rain,snowfall,cloudcover,windspeed_10m,winddirection_10m&timezone=America%2FLos_Angeles&temperature_unit=fahrenheit&windspeed_unit=mph&precipitation_unit=inch'"
      ]
     },
     "execution_count": 68,
     "metadata": {},
     "output_type": "execute_result"
    }
   ],
   "source": [
    "get_hourly_weather_url(37.865832, -122.297864, 2010, 2019)"
   ]
  },
  {
   "cell_type": "code",
   "execution_count": 74,
   "id": "3d6ad64f",
   "metadata": {},
   "outputs": [
    {
     "data": {
      "text/plain": [
       "'https://archive-api.open-meteo.com/v1/era5?latitude=1111&longitude=0&start_date=2001-01-01&end_date=2019-12-31&hourly=temperature_2m,relativehumidity_2m,rain,snowfall,cloudcover,windspeed_10m,winddirection_10m&timezone=America%2FLos_Angeles&temperature_unit=fahrenheit&windspeed_unit=mph&precipitation_unit=inch'"
      ]
     },
     "execution_count": 74,
     "metadata": {},
     "output_type": "execute_result"
    }
   ],
   "source": [
    "get_hourly_weather_url(1111)"
   ]
  },
  {
   "cell_type": "code",
   "execution_count": 71,
   "id": "dc117d28",
   "metadata": {},
   "outputs": [],
   "source": [
    "# https://stackoverflow.com/questions/49461443/how-to-raise-exception-when-function-call-is-missing-an-argument-in-python\n",
    "# catch an exception to pass a default argument if one was missing.\n",
    "\n",
    "# First of all, Python will already raise a TypeError if an argument is missing.\n",
    "\n",
    "# But you do not need to catch it to have default arguments since Python already provides a way to do this.\n",
    "\n",
    "# def my_function(a, b, c=0):\n",
    "#     pass\n",
    "\n",
    "# my_function(1, 2, 3) # This works fine\n",
    "# my_function(1, 2) # This works as well an used 0 as default argument for c\n"
   ]
  },
  {
   "cell_type": "code",
   "execution_count": null,
   "id": "944e4465",
   "metadata": {},
   "outputs": [],
   "source": []
  }
 ],
 "metadata": {
  "kernelspec": {
   "display_name": "PythonData",
   "language": "python",
   "name": "myenv"
  },
  "language_info": {
   "codemirror_mode": {
    "name": "ipython",
    "version": 3
   },
   "file_extension": ".py",
   "mimetype": "text/x-python",
   "name": "python",
   "nbconvert_exporter": "python",
   "pygments_lexer": "ipython3",
   "version": "3.9.12"
  }
 },
 "nbformat": 4,
 "nbformat_minor": 5
}
