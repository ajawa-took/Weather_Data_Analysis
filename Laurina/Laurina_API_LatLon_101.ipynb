{
 "cells": [
  {
   "cell_type": "code",
   "execution_count": 88,
   "id": "fc528262",
   "metadata": {},
   "outputs": [],
   "source": [
    "import requests\n",
    "import pandas as pd"
   ]
  },
  {
   "cell_type": "code",
   "execution_count": 155,
   "id": "f43e25f1",
   "metadata": {},
   "outputs": [],
   "source": [
    "import http.client, urllib.parse\n",
    "\n",
    "conn = http.client.HTTPConnection('api.positionstack.com')\n",
    "\n",
    "params = urllib.parse.urlencode({\n",
    "    'access_key': '1fbf7de4ce05274e9b9005659970c429',\n",
    "    'query': '98125',\n",
    "    'limit': 1\n",
    "    ,\n",
    "    })\n",
    "\n",
    "conn.request('GET', '/v1/forward?{}'.format(params))\n",
    "\n",
    "res = conn.getresponse()\n",
    "geo = res.read()\n",
    "# print(geo.decode('utf-8'))\n",
    "\n",
    "data_str = (geo.decode('utf-8'))"
   ]
  },
  {
   "cell_type": "code",
   "execution_count": 156,
   "id": "9f34e1b3",
   "metadata": {},
   "outputs": [
    {
     "data": {
      "text/plain": [
       "str"
      ]
     },
     "execution_count": 156,
     "metadata": {},
     "output_type": "execute_result"
    }
   ],
   "source": [
    "# Help from AskBCS:\n",
    "# Result was one long string, that only looked like a dictionary, \n",
    "# but wasn't.\n",
    "# Use \"type()\" to identify whether or not result is actually a dict.\n",
    "type(data_str)"
   ]
  },
  {
   "cell_type": "code",
   "execution_count": 157,
   "id": "c63def54",
   "metadata": {},
   "outputs": [],
   "source": [
    "# Convert string to json (which is a dictionary).\n",
    "import json\n",
    "data_json = json.loads(data_str)"
   ]
  },
  {
   "cell_type": "code",
   "execution_count": 158,
   "id": "1c6e9a64",
   "metadata": {},
   "outputs": [],
   "source": [
    "# data_json\n",
    "\n",
    "data_json_data = data_json['data']\n",
    "\n",
    "# data_json_data\n",
    "coord = []\n",
    "for x in data_json_data:\n",
    "    coord.append((x['latitude'], x['longitude']))\n",
    "#     print(x['latitude'])"
   ]
  },
  {
   "cell_type": "code",
   "execution_count": 159,
   "id": "bda30455",
   "metadata": {},
   "outputs": [
    {
     "data": {
      "text/plain": [
       "[(47.716513, -122.295829)]"
      ]
     },
     "execution_count": 159,
     "metadata": {},
     "output_type": "execute_result"
    }
   ],
   "source": [
    "coord"
   ]
  },
  {
   "cell_type": "code",
   "execution_count": null,
   "id": "77029524",
   "metadata": {},
   "outputs": [],
   "source": []
  },
  {
   "cell_type": "markdown",
   "id": "c5ab0c5f",
   "metadata": {},
   "source": [
    "HTTP GET Request Parameters:\n",
    "\n",
    "Object\tDescription\n",
    "\n",
    "access_key\t[Required] Your API access key, which can be found in your acccount dashboard.\n",
    "## query\t[Required] Specify your query as a free-text address, place name or using any other common text-based location identifier (e.g. postal code, city name, region name).\n",
    "country\t[Optional] Filter geocoding results by one or multiple comma-separated 2-letter (e.g. AU) or 3-letter country codes (e.g. AUS). Example: country=AU,CA to filter by Australia and Canada.\n",
    "Download: Supported Countries (CSV)\n",
    "region\t[Optional] Filter geocoding results by specifying a region. This could be a neighbourhood, district, city, county, state or administrative area. Example: region=Berlin to filter by locations in Berlin.\n",
    "language\t[Optional] Translate specific API response objects by specifying the 2-letter (e.g. en) or the 3-letter code (e.g. eng) of your preferred language. (Default: English)\n",
    "country_module\t[Optional] Set to 1 in order to enable the Country Module to include more extensive country data in your API response. Read more about this in the Country Module section.\n",
    "sun_module\t[Optional] Set to 1 in order to enable the Sun Module to include astrology data in your API response. Read more about this in the Sun Module section.\n",
    "timezone_module\t[Optional] Set to 1 in order to enable the Timezone Module to include timezone data in your API response. Read more about this in the Timezone Module section.\n",
    "bbox_module\t[Optional] Set to 1 in order to enable the Bounding Box Module to include boundary coordinates in your API response. Read more about this in the Bounding Box Module section.\n",
    "limit\t[Optional] Specify a limit between 1 and 80 to limit the number of results returned per geocoding query. Batch requests can contain multiple geocoding queries. (Default: 10 results)\n",
    "fields\t[Optional] Specify one or multiple response field(s) to decrease API response size. Learn how to use this option in the Specify Response Fields section.\n",
    "output\t[Optional] Specify your preferred API output format. Available values: json (default), xml and geojson.\n",
    "callback\t[Optional] Use this parameter to specify a JSONP callback function name to wrap your API response in. Learn more about JSONP Callbacks."
   ]
  }
 ],
 "metadata": {
  "kernelspec": {
   "display_name": "PythonData",
   "language": "python",
   "name": "myenv"
  },
  "language_info": {
   "codemirror_mode": {
    "name": "ipython",
    "version": 3
   },
   "file_extension": ".py",
   "mimetype": "text/x-python",
   "name": "python",
   "nbconvert_exporter": "python",
   "pygments_lexer": "ipython3",
   "version": "3.9.12"
  }
 },
 "nbformat": 4,
 "nbformat_minor": 5
}
