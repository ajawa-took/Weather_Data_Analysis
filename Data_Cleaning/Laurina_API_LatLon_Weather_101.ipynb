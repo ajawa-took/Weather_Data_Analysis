{
 "cells": [
  {
   "cell_type": "code",
   "execution_count": 366,
   "id": "fc528262",
   "metadata": {},
   "outputs": [],
   "source": [
    "import requests\n",
    "import pandas as pd\n",
    "import json"
   ]
  },
  {
   "cell_type": "markdown",
   "id": "2473777b",
   "metadata": {},
   "source": [
    "# Pull Latitude and Longitude from positionstack.com based on geographical user input."
   ]
  },
  {
   "cell_type": "code",
   "execution_count": 367,
   "id": "fd669cb4",
   "metadata": {},
   "outputs": [
    {
     "name": "stdout",
     "output_type": "stream",
     "text": [
      "Enter a Country using a 2-letter country code (Example: US): jp\n"
     ]
    }
   ],
   "source": [
    "# User input: Country\n",
    "country_input = (input(\"Enter a Country using a 2-letter country code (Example: US): \"))"
   ]
  },
  {
   "cell_type": "code",
   "execution_count": 368,
   "id": "13ffa492",
   "metadata": {},
   "outputs": [],
   "source": [
    "# N/A: No need for this extra geographic variable.\n",
    "\n",
    "# User input: State\n",
    "# region_input = (input(\"Enter a region (City, County, State, etc.): \"))"
   ]
  },
  {
   "cell_type": "code",
   "execution_count": 369,
   "id": "63a04402",
   "metadata": {},
   "outputs": [
    {
     "name": "stdout",
     "output_type": "stream",
     "text": [
      "Enter a location (City, Zip Code, etc.): tokyo\n"
     ]
    }
   ],
   "source": [
    "# User input: City\n",
    "\n",
    "# HTTP GET Request Parameters:\n",
    "# query\t[Required] Specify your query as a free-text address, \n",
    "# place name or using any other common text-based location \n",
    "# identifier (e.g. postal code, city name, region name).\n",
    "\n",
    "query_input = (input(\"Enter a location (City, Zip Code, etc.): \"))"
   ]
  },
  {
   "cell_type": "code",
   "execution_count": 370,
   "id": "ee608e3b",
   "metadata": {},
   "outputs": [
    {
     "data": {
      "text/plain": [
       "'jp | tokyo'"
      ]
     },
     "execution_count": 370,
     "metadata": {},
     "output_type": "execute_result"
    }
   ],
   "source": [
    "# Geo reference for adding to final dataframe.\n",
    "geo_input = country_input  + \" | \" + query_input\n",
    "geo_input"
   ]
  },
  {
   "cell_type": "code",
   "execution_count": 371,
   "id": "f43e25f1",
   "metadata": {},
   "outputs": [
    {
     "name": "stdout",
     "output_type": "stream",
     "text": [
      "{\"data\":[{\"latitude\":35.695126,\"longitude\":139.75391,\"type\":\"locality\",\"name\":\"Tokyo\",\"number\":null,\"postal_code\":null,\"street\":null,\"confidence\":1,\"region\":\"Tokyo\",\"region_code\":\"TK\",\"county\":\"Chiyoda\",\"locality\":\"Tokyo\",\"administrative_area\":null,\"neighbourhood\":null,\"country\":\"Japan\",\"country_code\":\"JPN\",\"continent\":\"Asia\",\"label\":\"Tokyo, Japan\"}]}\n"
     ]
    }
   ],
   "source": [
    "import http.client, urllib.parse\n",
    "\n",
    "conn = http.client.HTTPConnection('api.positionstack.com')\n",
    "\n",
    "params = urllib.parse.urlencode({\n",
    "    'access_key': '1fbf7de4ce05274e9b9005659970c429',\n",
    "    \n",
    "    # Variables get live user input above.\n",
    "    'country': country_input,\n",
    "#     'region': region_input,\n",
    "    'query': query_input,\n",
    "        \n",
    "    # \"limit\" of 1 ensures only 1 Lat/Lon will be passed below.    \n",
    "    'limit': 1\n",
    "    })\n",
    "\n",
    "conn.request('GET', '/v1/forward?{}'.format(params))\n",
    "\n",
    "res = conn.getresponse()\n",
    "geo = res.read()\n",
    "geo_str = (geo.decode('utf-8'))\n",
    "\n",
    "print(geo.decode('utf-8'))\n",
    "\n",
    "###########################################################\n",
    "# Still needs error handling."
   ]
  },
  {
   "cell_type": "code",
   "execution_count": 372,
   "id": "9f34e1b3",
   "metadata": {},
   "outputs": [
    {
     "data": {
      "text/plain": [
       "str"
      ]
     },
     "execution_count": 372,
     "metadata": {},
     "output_type": "execute_result"
    }
   ],
   "source": [
    "# Help from AskBCS:\n",
    "# Result was one long string, that only looked \n",
    "# like a dictionary, but wasn't.\n",
    "# Use \"type()\" to identify whether or not \n",
    "# result is actually a dict.\n",
    "\n",
    "type(geo_str)"
   ]
  },
  {
   "cell_type": "code",
   "execution_count": 373,
   "id": "c63def54",
   "metadata": {},
   "outputs": [
    {
     "name": "stdout",
     "output_type": "stream",
     "text": [
      "{'data': [{'latitude': 35.695126, 'longitude': 139.75391, 'type': 'locality', 'name': 'Tokyo', 'number': None, 'postal_code': None, 'street': None, 'confidence': 1, 'region': 'Tokyo', 'region_code': 'TK', 'county': 'Chiyoda', 'locality': 'Tokyo', 'administrative_area': None, 'neighbourhood': None, 'country': 'Japan', 'country_code': 'JPN', 'continent': 'Asia', 'label': 'Tokyo, Japan'}]}\n"
     ]
    }
   ],
   "source": [
    "# Convert string to json (which is a dictionary).\n",
    "# geo_json\n",
    "geo_json = json.loads(geo_str)\n",
    "\n",
    "print(geo_json)"
   ]
  },
  {
   "cell_type": "markdown",
   "id": "498a150f",
   "metadata": {},
   "source": [
    "##### Reminder: Double parentheses are functional in the for loops."
   ]
  },
  {
   "cell_type": "code",
   "execution_count": 374,
   "id": "1c6e9a64",
   "metadata": {},
   "outputs": [],
   "source": [
    "# # geo_json_coord = lat and lon combined into a tuple.\n",
    "\n",
    "# geo_json_coord = geo_json['data']\n",
    "# latlon_tup = []\n",
    "# for x in geo_json_coord:\n",
    "#     latlon_tup.append((x['latitude'], x['longitude']))"
   ]
  },
  {
   "cell_type": "code",
   "execution_count": 375,
   "id": "16842079",
   "metadata": {},
   "outputs": [
    {
     "data": {
      "text/plain": [
       "35.695126"
      ]
     },
     "execution_count": 375,
     "metadata": {},
     "output_type": "execute_result"
    }
   ],
   "source": [
    "# Pull latitude value by itself.\n",
    "\n",
    "geo_json_lat = geo_json['data']\n",
    "var_lat = []\n",
    "for x in geo_json_lat:\n",
    "    var_lat.append((x['latitude']))\n",
    "    \n",
    "var_lat[0]"
   ]
  },
  {
   "cell_type": "code",
   "execution_count": 376,
   "id": "296d7cc9",
   "metadata": {},
   "outputs": [
    {
     "data": {
      "text/plain": [
       "139.75391"
      ]
     },
     "execution_count": 376,
     "metadata": {},
     "output_type": "execute_result"
    }
   ],
   "source": [
    "# Pull longitude value by itself.\n",
    "\n",
    "geo_json_lon = geo_json['data']\n",
    "var_lon = []\n",
    "for x in geo_json_lon:\n",
    "    var_lon.append((x['longitude']))\n",
    "    \n",
    "var_lon[0]"
   ]
  },
  {
   "cell_type": "markdown",
   "id": "eebf73de",
   "metadata": {},
   "source": [
    "# Push Latitude and Longitude to Weather API URL, based on start date and stop date from user input."
   ]
  },
  {
   "cell_type": "code",
   "execution_count": 377,
   "id": "2025b9e1",
   "metadata": {},
   "outputs": [],
   "source": [
    "# List of columns, for starter dataset:\n",
    "\n",
    "# hourly_columns = ['time',\n",
    "#              'temperature_2m_degF', \n",
    "#              'relativehumidity_2m_perc', \n",
    "#              'rain_inch',\n",
    "#              'snowfall_cm', \n",
    "#              'cloudcover_perc', \n",
    "#              'windspeed_10m_mph',\n",
    "#              'winddirection_10m_deg']\n",
    "\n",
    "#  We pulled data from 2000-01-01 to 2020-12-31."
   ]
  },
  {
   "cell_type": "markdown",
   "id": "f1a80470",
   "metadata": {},
   "source": [
    "Original Open Meteo API URL:\n",
    "\n",
    "https://archive-api.open-meteo.com/v1/era5?latitude=52.52&longitude=13.41&start_date=2000-01-01&end_date=2020-12-31&hourly=temperature_2m,relativehumidity_2m,rain,snowfall,cloudcover,windspeed_10m,winddirection_10m&timezone=America%2FLos_Angeles&temperature_unit=fahrenheit&windspeed_unit=mph&precipitation_unit=inch"
   ]
  },
  {
   "cell_type": "code",
   "execution_count": 379,
   "id": "b8700d41",
   "metadata": {},
   "outputs": [
    {
     "name": "stdout",
     "output_type": "stream",
     "text": [
      "Enter the start date (YYYY-MM-DD): 2010-01-01\n"
     ]
    }
   ],
   "source": [
    "# User input: Start Date\n",
    "start_date_input = (input(\"Enter the start date (YYYY-MM-DD): \"))"
   ]
  },
  {
   "cell_type": "code",
   "execution_count": 380,
   "id": "eba73806",
   "metadata": {},
   "outputs": [
    {
     "name": "stdout",
     "output_type": "stream",
     "text": [
      "Enter the end date (YYYY-MM-DD): 2020-12-31\n"
     ]
    }
   ],
   "source": [
    "# User input: End Date\n",
    "end_date_input = (input(\"Enter the end date (YYYY-MM-DD): \"))"
   ]
  },
  {
   "cell_type": "code",
   "execution_count": 381,
   "id": "cc81cbe8",
   "metadata": {},
   "outputs": [],
   "source": [
    "# Break URL into snippets to be assembled below:\n",
    "\n",
    "url_snip_1 = \"https://archive-api.open-meteo.com/v1/era5?latitude=\" \n",
    "url_snip_2 = str(var_lat[0])   # latitude, input from previous json\n",
    "url_snip_3 = \"&longitude=\"\n",
    "url_snip_4 = str(var_lon[0])   # longitude, input from previous json\n",
    "\n",
    "\n",
    "\n",
    "url_snip_5 = \"&start_date=\"\n",
    "url_snip_6 = start_date_input   # start date, input from user\n",
    "# url_snip_6 = \"2010-01-01\"   # --- OR --- static start date, for dummy data\n",
    "\n",
    "url_snip_7 = \"&end_date=\"\n",
    "url_snip_8 = end_date_input   # end date, input from user\n",
    "# url_snip_8 = \"2020-12-31\"   # --- OR ---  static end date, for dummy data\n",
    "\n",
    "\n",
    "\n",
    "url_snip_9 = \"&hourly=\"   # elements, hourly\n",
    "url_snip_10 = \"temperature_2m,\"   # data element\n",
    "url_snip_11 = \"relativehumidity_2m,\"   # data element\n",
    "url_snip_12 = \"rain,snowfall,\"   # data element\n",
    "url_snip_13 = \"cloudcover,\"   # data element\n",
    "url_snip_14 = \"windspeed_10m,\"   # data element\n",
    "url_snip_15 = \"winddirection_10m\"   # data element\n",
    "\n",
    "url_snip_16 = \"&timezone=America%2FLos_Angeles\"   # time zone\n",
    "url_snip_17 = \"&temperature_unit=fahrenheit\"   # temp unit\n",
    "url_snip_18 = \"&windspeed_unit=mph\"   # windspeed unit\n",
    "url_snip_19 = \"&precipitation_unit=inch\"   # precip unit"
   ]
  },
  {
   "cell_type": "code",
   "execution_count": 382,
   "id": "7f5a07d7",
   "metadata": {},
   "outputs": [],
   "source": [
    "# Contatenate the url snippets.\n",
    "\n",
    "url_concat_full = \\\n",
    "    url_snip_1 + \\\n",
    "    url_snip_2 + \\\n",
    "    url_snip_3 + \\\n",
    "    url_snip_4 + \\\n",
    "    url_snip_5 + \\\n",
    "    url_snip_6 + \\\n",
    "    url_snip_7 + \\\n",
    "    url_snip_8 + \\\n",
    "    url_snip_9 + \\\n",
    "    url_snip_10 + \\\n",
    "    url_snip_11 + \\\n",
    "    url_snip_12 + \\\n",
    "    url_snip_13 + \\\n",
    "    url_snip_14 + \\\n",
    "    url_snip_15 + \\\n",
    "    url_snip_16 + \\\n",
    "    url_snip_17 + \\\n",
    "    url_snip_18 + \\\n",
    "    url_snip_19"
   ]
  },
  {
   "cell_type": "code",
   "execution_count": 383,
   "id": "813deb42",
   "metadata": {},
   "outputs": [
    {
     "name": "stdout",
     "output_type": "stream",
     "text": [
      "https://archive-api.open-meteo.com/v1/era5?latitude=35.695126&longitude=139.75391&start_date=2010-01-01&end_date=2020-12-31&hourly=temperature_2m,relativehumidity_2m,rain,snowfall,cloudcover,windspeed_10m,winddirection_10m&timezone=America%2FLos_Angeles&temperature_unit=fahrenheit&windspeed_unit=mph&precipitation_unit=inch\n"
     ]
    }
   ],
   "source": [
    "print(url_concat_full)"
   ]
  },
  {
   "cell_type": "code",
   "execution_count": 384,
   "id": "954ed42e",
   "metadata": {},
   "outputs": [],
   "source": [
    "# Data comes in as one long string.\n",
    "weather_str = requests.get(url_concat_full).text"
   ]
  },
  {
   "cell_type": "code",
   "execution_count": 385,
   "id": "72bd699c",
   "metadata": {},
   "outputs": [],
   "source": [
    "# Convert string to dictionary.\n",
    "weather_json = json.loads(weather_str)"
   ]
  },
  {
   "cell_type": "code",
   "execution_count": 386,
   "id": "b9adbe53",
   "metadata": {},
   "outputs": [
    {
     "data": {
      "text/plain": [
       "dict"
      ]
     },
     "execution_count": 386,
     "metadata": {},
     "output_type": "execute_result"
    }
   ],
   "source": [
    "# Verify that data type is dictionary.\n",
    "type(weather_json)"
   ]
  },
  {
   "cell_type": "code",
   "execution_count": 387,
   "id": "56d316a7",
   "metadata": {
    "scrolled": true
   },
   "outputs": [
    {
     "data": {
      "text/html": [
       "<div>\n",
       "<style scoped>\n",
       "    .dataframe tbody tr th:only-of-type {\n",
       "        vertical-align: middle;\n",
       "    }\n",
       "\n",
       "    .dataframe tbody tr th {\n",
       "        vertical-align: top;\n",
       "    }\n",
       "\n",
       "    .dataframe thead th {\n",
       "        text-align: right;\n",
       "    }\n",
       "</style>\n",
       "<table border=\"1\" class=\"dataframe\">\n",
       "  <thead>\n",
       "    <tr style=\"text-align: right;\">\n",
       "      <th></th>\n",
       "      <th>cloudcover</th>\n",
       "      <th>rain</th>\n",
       "      <th>relativehumidity_2m</th>\n",
       "      <th>snowfall</th>\n",
       "      <th>temperature_2m</th>\n",
       "      <th>time</th>\n",
       "      <th>winddirection_10m</th>\n",
       "      <th>windspeed_10m</th>\n",
       "    </tr>\n",
       "  </thead>\n",
       "  <tbody>\n",
       "    <tr>\n",
       "      <th>0</th>\n",
       "      <td>1</td>\n",
       "      <td>0.0</td>\n",
       "      <td>37</td>\n",
       "      <td>0.0</td>\n",
       "      <td>45.0</td>\n",
       "      <td>2010-01-01T00:00</td>\n",
       "      <td>15.0</td>\n",
       "      <td>8.6</td>\n",
       "    </tr>\n",
       "    <tr>\n",
       "      <th>1</th>\n",
       "      <td>0</td>\n",
       "      <td>0.0</td>\n",
       "      <td>48</td>\n",
       "      <td>0.0</td>\n",
       "      <td>41.5</td>\n",
       "      <td>2010-01-01T01:00</td>\n",
       "      <td>21.0</td>\n",
       "      <td>8.1</td>\n",
       "    </tr>\n",
       "    <tr>\n",
       "      <th>2</th>\n",
       "      <td>0</td>\n",
       "      <td>0.0</td>\n",
       "      <td>54</td>\n",
       "      <td>0.0</td>\n",
       "      <td>39.3</td>\n",
       "      <td>2010-01-01T02:00</td>\n",
       "      <td>16.0</td>\n",
       "      <td>7.4</td>\n",
       "    </tr>\n",
       "    <tr>\n",
       "      <th>3</th>\n",
       "      <td>4</td>\n",
       "      <td>0.0</td>\n",
       "      <td>62</td>\n",
       "      <td>0.0</td>\n",
       "      <td>35.8</td>\n",
       "      <td>2010-01-01T03:00</td>\n",
       "      <td>24.0</td>\n",
       "      <td>3.9</td>\n",
       "    </tr>\n",
       "    <tr>\n",
       "      <th>4</th>\n",
       "      <td>1</td>\n",
       "      <td>0.0</td>\n",
       "      <td>64</td>\n",
       "      <td>0.0</td>\n",
       "      <td>34.9</td>\n",
       "      <td>2010-01-01T04:00</td>\n",
       "      <td>20.0</td>\n",
       "      <td>5.2</td>\n",
       "    </tr>\n",
       "    <tr>\n",
       "      <th>...</th>\n",
       "      <td>...</td>\n",
       "      <td>...</td>\n",
       "      <td>...</td>\n",
       "      <td>...</td>\n",
       "      <td>...</td>\n",
       "      <td>...</td>\n",
       "      <td>...</td>\n",
       "      <td>...</td>\n",
       "    </tr>\n",
       "    <tr>\n",
       "      <th>96427</th>\n",
       "      <td>38</td>\n",
       "      <td>0.0</td>\n",
       "      <td>42</td>\n",
       "      <td>0.0</td>\n",
       "      <td>44.3</td>\n",
       "      <td>2020-12-31T19:00</td>\n",
       "      <td>4.0</td>\n",
       "      <td>3.4</td>\n",
       "    </tr>\n",
       "    <tr>\n",
       "      <th>96428</th>\n",
       "      <td>26</td>\n",
       "      <td>0.0</td>\n",
       "      <td>38</td>\n",
       "      <td>0.0</td>\n",
       "      <td>46.7</td>\n",
       "      <td>2020-12-31T20:00</td>\n",
       "      <td>27.0</td>\n",
       "      <td>4.0</td>\n",
       "    </tr>\n",
       "    <tr>\n",
       "      <th>96429</th>\n",
       "      <td>8</td>\n",
       "      <td>0.0</td>\n",
       "      <td>37</td>\n",
       "      <td>0.0</td>\n",
       "      <td>47.6</td>\n",
       "      <td>2020-12-31T21:00</td>\n",
       "      <td>53.0</td>\n",
       "      <td>4.8</td>\n",
       "    </tr>\n",
       "    <tr>\n",
       "      <th>96430</th>\n",
       "      <td>18</td>\n",
       "      <td>0.0</td>\n",
       "      <td>35</td>\n",
       "      <td>0.0</td>\n",
       "      <td>48.0</td>\n",
       "      <td>2020-12-31T22:00</td>\n",
       "      <td>62.0</td>\n",
       "      <td>5.3</td>\n",
       "    </tr>\n",
       "    <tr>\n",
       "      <th>96431</th>\n",
       "      <td>38</td>\n",
       "      <td>0.0</td>\n",
       "      <td>34</td>\n",
       "      <td>0.0</td>\n",
       "      <td>48.1</td>\n",
       "      <td>2020-12-31T23:00</td>\n",
       "      <td>60.0</td>\n",
       "      <td>6.2</td>\n",
       "    </tr>\n",
       "  </tbody>\n",
       "</table>\n",
       "<p>96432 rows × 8 columns</p>\n",
       "</div>"
      ],
      "text/plain": [
       "       cloudcover  rain  relativehumidity_2m  snowfall  temperature_2m  \\\n",
       "0               1   0.0                   37       0.0            45.0   \n",
       "1               0   0.0                   48       0.0            41.5   \n",
       "2               0   0.0                   54       0.0            39.3   \n",
       "3               4   0.0                   62       0.0            35.8   \n",
       "4               1   0.0                   64       0.0            34.9   \n",
       "...           ...   ...                  ...       ...             ...   \n",
       "96427          38   0.0                   42       0.0            44.3   \n",
       "96428          26   0.0                   38       0.0            46.7   \n",
       "96429           8   0.0                   37       0.0            47.6   \n",
       "96430          18   0.0                   35       0.0            48.0   \n",
       "96431          38   0.0                   34       0.0            48.1   \n",
       "\n",
       "                   time  winddirection_10m  windspeed_10m  \n",
       "0      2010-01-01T00:00               15.0            8.6  \n",
       "1      2010-01-01T01:00               21.0            8.1  \n",
       "2      2010-01-01T02:00               16.0            7.4  \n",
       "3      2010-01-01T03:00               24.0            3.9  \n",
       "4      2010-01-01T04:00               20.0            5.2  \n",
       "...                 ...                ...            ...  \n",
       "96427  2020-12-31T19:00                4.0            3.4  \n",
       "96428  2020-12-31T20:00               27.0            4.0  \n",
       "96429  2020-12-31T21:00               53.0            4.8  \n",
       "96430  2020-12-31T22:00               62.0            5.3  \n",
       "96431  2020-12-31T23:00               60.0            6.2  \n",
       "\n",
       "[96432 rows x 8 columns]"
      ]
     },
     "execution_count": 387,
     "metadata": {},
     "output_type": "execute_result"
    }
   ],
   "source": [
    "# Convert json dictionary into dataframe.\n",
    "\n",
    "# Standard \"pd.json_normalize(weather_json)\" doesn't work \n",
    "# with these nested levels. Also tried adding \"record_path\"\n",
    "# and \"meta\" tags, but still didn't work.\n",
    "# Found \"from_records\" alternative that does work.\n",
    "\n",
    "# N/A: Code from:\n",
    "# https://stackoverflow.com/questions/66894920/json-normalise-from-nested-api-to-df-throwing-type-error\n",
    "# Creates \"pivot\" table format with all entries as columns, \n",
    "# all variables as rows.\n",
    "# Not what we need, but might be useful for other datasets.\n",
    "# dftest3 = pd.DataFrame.from_records(weather_json['hourly']).T.reset_index()\n",
    "\n",
    "\n",
    "# Code from:\n",
    "# https://stackoverflow.com/questions/66894920/json-normalise-from-nested-api-to-df-throwing-type-error\n",
    "\n",
    "weather_raw = pd.DataFrame.from_records(weather_json['hourly'])\n",
    "weather_raw"
   ]
  },
  {
   "cell_type": "code",
   "execution_count": 388,
   "id": "e2298d91",
   "metadata": {},
   "outputs": [
    {
     "data": {
      "text/html": [
       "<div>\n",
       "<style scoped>\n",
       "    .dataframe tbody tr th:only-of-type {\n",
       "        vertical-align: middle;\n",
       "    }\n",
       "\n",
       "    .dataframe tbody tr th {\n",
       "        vertical-align: top;\n",
       "    }\n",
       "\n",
       "    .dataframe thead th {\n",
       "        text-align: right;\n",
       "    }\n",
       "</style>\n",
       "<table border=\"1\" class=\"dataframe\">\n",
       "  <thead>\n",
       "    <tr style=\"text-align: right;\">\n",
       "      <th></th>\n",
       "      <th>cloudcover</th>\n",
       "      <th>rain</th>\n",
       "      <th>relativehumidity_2m</th>\n",
       "      <th>snowfall</th>\n",
       "      <th>temperature_2m</th>\n",
       "      <th>time</th>\n",
       "      <th>winddirection_10m</th>\n",
       "      <th>windspeed_10m</th>\n",
       "      <th>geo</th>\n",
       "    </tr>\n",
       "  </thead>\n",
       "  <tbody>\n",
       "    <tr>\n",
       "      <th>0</th>\n",
       "      <td>1</td>\n",
       "      <td>0.0</td>\n",
       "      <td>37</td>\n",
       "      <td>0.0</td>\n",
       "      <td>45.0</td>\n",
       "      <td>2010-01-01T00:00</td>\n",
       "      <td>15.0</td>\n",
       "      <td>8.6</td>\n",
       "      <td>jp | tokyo</td>\n",
       "    </tr>\n",
       "    <tr>\n",
       "      <th>1</th>\n",
       "      <td>0</td>\n",
       "      <td>0.0</td>\n",
       "      <td>48</td>\n",
       "      <td>0.0</td>\n",
       "      <td>41.5</td>\n",
       "      <td>2010-01-01T01:00</td>\n",
       "      <td>21.0</td>\n",
       "      <td>8.1</td>\n",
       "      <td>jp | tokyo</td>\n",
       "    </tr>\n",
       "    <tr>\n",
       "      <th>2</th>\n",
       "      <td>0</td>\n",
       "      <td>0.0</td>\n",
       "      <td>54</td>\n",
       "      <td>0.0</td>\n",
       "      <td>39.3</td>\n",
       "      <td>2010-01-01T02:00</td>\n",
       "      <td>16.0</td>\n",
       "      <td>7.4</td>\n",
       "      <td>jp | tokyo</td>\n",
       "    </tr>\n",
       "    <tr>\n",
       "      <th>3</th>\n",
       "      <td>4</td>\n",
       "      <td>0.0</td>\n",
       "      <td>62</td>\n",
       "      <td>0.0</td>\n",
       "      <td>35.8</td>\n",
       "      <td>2010-01-01T03:00</td>\n",
       "      <td>24.0</td>\n",
       "      <td>3.9</td>\n",
       "      <td>jp | tokyo</td>\n",
       "    </tr>\n",
       "    <tr>\n",
       "      <th>4</th>\n",
       "      <td>1</td>\n",
       "      <td>0.0</td>\n",
       "      <td>64</td>\n",
       "      <td>0.0</td>\n",
       "      <td>34.9</td>\n",
       "      <td>2010-01-01T04:00</td>\n",
       "      <td>20.0</td>\n",
       "      <td>5.2</td>\n",
       "      <td>jp | tokyo</td>\n",
       "    </tr>\n",
       "    <tr>\n",
       "      <th>...</th>\n",
       "      <td>...</td>\n",
       "      <td>...</td>\n",
       "      <td>...</td>\n",
       "      <td>...</td>\n",
       "      <td>...</td>\n",
       "      <td>...</td>\n",
       "      <td>...</td>\n",
       "      <td>...</td>\n",
       "      <td>...</td>\n",
       "    </tr>\n",
       "    <tr>\n",
       "      <th>96427</th>\n",
       "      <td>38</td>\n",
       "      <td>0.0</td>\n",
       "      <td>42</td>\n",
       "      <td>0.0</td>\n",
       "      <td>44.3</td>\n",
       "      <td>2020-12-31T19:00</td>\n",
       "      <td>4.0</td>\n",
       "      <td>3.4</td>\n",
       "      <td>jp | tokyo</td>\n",
       "    </tr>\n",
       "    <tr>\n",
       "      <th>96428</th>\n",
       "      <td>26</td>\n",
       "      <td>0.0</td>\n",
       "      <td>38</td>\n",
       "      <td>0.0</td>\n",
       "      <td>46.7</td>\n",
       "      <td>2020-12-31T20:00</td>\n",
       "      <td>27.0</td>\n",
       "      <td>4.0</td>\n",
       "      <td>jp | tokyo</td>\n",
       "    </tr>\n",
       "    <tr>\n",
       "      <th>96429</th>\n",
       "      <td>8</td>\n",
       "      <td>0.0</td>\n",
       "      <td>37</td>\n",
       "      <td>0.0</td>\n",
       "      <td>47.6</td>\n",
       "      <td>2020-12-31T21:00</td>\n",
       "      <td>53.0</td>\n",
       "      <td>4.8</td>\n",
       "      <td>jp | tokyo</td>\n",
       "    </tr>\n",
       "    <tr>\n",
       "      <th>96430</th>\n",
       "      <td>18</td>\n",
       "      <td>0.0</td>\n",
       "      <td>35</td>\n",
       "      <td>0.0</td>\n",
       "      <td>48.0</td>\n",
       "      <td>2020-12-31T22:00</td>\n",
       "      <td>62.0</td>\n",
       "      <td>5.3</td>\n",
       "      <td>jp | tokyo</td>\n",
       "    </tr>\n",
       "    <tr>\n",
       "      <th>96431</th>\n",
       "      <td>38</td>\n",
       "      <td>0.0</td>\n",
       "      <td>34</td>\n",
       "      <td>0.0</td>\n",
       "      <td>48.1</td>\n",
       "      <td>2020-12-31T23:00</td>\n",
       "      <td>60.0</td>\n",
       "      <td>6.2</td>\n",
       "      <td>jp | tokyo</td>\n",
       "    </tr>\n",
       "  </tbody>\n",
       "</table>\n",
       "<p>96432 rows × 9 columns</p>\n",
       "</div>"
      ],
      "text/plain": [
       "       cloudcover  rain  relativehumidity_2m  snowfall  temperature_2m  \\\n",
       "0               1   0.0                   37       0.0            45.0   \n",
       "1               0   0.0                   48       0.0            41.5   \n",
       "2               0   0.0                   54       0.0            39.3   \n",
       "3               4   0.0                   62       0.0            35.8   \n",
       "4               1   0.0                   64       0.0            34.9   \n",
       "...           ...   ...                  ...       ...             ...   \n",
       "96427          38   0.0                   42       0.0            44.3   \n",
       "96428          26   0.0                   38       0.0            46.7   \n",
       "96429           8   0.0                   37       0.0            47.6   \n",
       "96430          18   0.0                   35       0.0            48.0   \n",
       "96431          38   0.0                   34       0.0            48.1   \n",
       "\n",
       "                   time  winddirection_10m  windspeed_10m         geo  \n",
       "0      2010-01-01T00:00               15.0            8.6  jp | tokyo  \n",
       "1      2010-01-01T01:00               21.0            8.1  jp | tokyo  \n",
       "2      2010-01-01T02:00               16.0            7.4  jp | tokyo  \n",
       "3      2010-01-01T03:00               24.0            3.9  jp | tokyo  \n",
       "4      2010-01-01T04:00               20.0            5.2  jp | tokyo  \n",
       "...                 ...                ...            ...         ...  \n",
       "96427  2020-12-31T19:00                4.0            3.4  jp | tokyo  \n",
       "96428  2020-12-31T20:00               27.0            4.0  jp | tokyo  \n",
       "96429  2020-12-31T21:00               53.0            4.8  jp | tokyo  \n",
       "96430  2020-12-31T22:00               62.0            5.3  jp | tokyo  \n",
       "96431  2020-12-31T23:00               60.0            6.2  jp | tokyo  \n",
       "\n",
       "[96432 rows x 9 columns]"
      ]
     },
     "execution_count": 388,
     "metadata": {},
     "output_type": "execute_result"
    }
   ],
   "source": [
    "# Add geo input from user as new column, for reference.\n",
    "\n",
    "weather_raw['geo'] = geo_input\n",
    "weather_raw"
   ]
  },
  {
   "cell_type": "code",
   "execution_count": 389,
   "id": "4c100169",
   "metadata": {
    "scrolled": true
   },
   "outputs": [],
   "source": [
    "# San Francisco\n",
    "# New York\n",
    "# London\n",
    "# Berlin\n",
    "# Tokyo\n",
    "\n",
    "# sf_df\n",
    "# ny_df\n",
    "# london_df\n",
    "# berin_df\n",
    "# tokyo_df\n",
    "\n",
    "# Start Date: 2010-01-01\n",
    "# End Date: 2020-12-31\n",
    "\n",
    "# tokyo_df = weather_raw\n",
    "\n",
    "# tokyo_df"
   ]
  },
  {
   "cell_type": "code",
   "execution_count": 390,
   "id": "19d2fd78",
   "metadata": {},
   "outputs": [],
   "source": [
    "# dummy5cities = pd.concat([sf_df, ny_df, london_df, berin_df, tokyo_df])"
   ]
  },
  {
   "cell_type": "code",
   "execution_count": 391,
   "id": "9287656e",
   "metadata": {},
   "outputs": [],
   "source": [
    "# dummy5cities.to_csv('dummy5cities.csv')"
   ]
  },
  {
   "cell_type": "code",
   "execution_count": null,
   "id": "15a5d71b",
   "metadata": {},
   "outputs": [],
   "source": []
  }
 ],
 "metadata": {
  "kernelspec": {
   "display_name": "PythonData",
   "language": "python",
   "name": "myenv"
  },
  "language_info": {
   "codemirror_mode": {
    "name": "ipython",
    "version": 3
   },
   "file_extension": ".py",
   "mimetype": "text/x-python",
   "name": "python",
   "nbconvert_exporter": "python",
   "pygments_lexer": "ipython3",
   "version": "3.9.12"
  }
 },
 "nbformat": 4,
 "nbformat_minor": 5
}
