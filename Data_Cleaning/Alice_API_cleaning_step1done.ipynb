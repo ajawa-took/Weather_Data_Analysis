{
 "cells": [
  {
   "cell_type": "code",
   "execution_count": 1,
   "id": "fc528262",
   "metadata": {},
   "outputs": [],
   "source": [
    "import requests\n",
    "import pandas as pd\n",
    "import json"
   ]
  },
  {
   "cell_type": "markdown",
   "id": "2473777b",
   "metadata": {},
   "source": [
    "# Pull Latitude and Longitude from positionstack.com based on geographical user input."
   ]
  },
  {
   "cell_type": "code",
   "execution_count": 2,
   "id": "fd669cb4",
   "metadata": {},
   "outputs": [
    {
     "name": "stdout",
     "output_type": "stream",
     "text": [
      "Enter a Country using a 2-letter country code (Example: US): jp\n"
     ]
    }
   ],
   "source": [
    "# User input: Country\n",
    "country_input = (input(\"Enter a Country using a 2-letter country code (Example: US): \"))"
   ]
  },
  {
   "cell_type": "code",
   "execution_count": 215,
   "id": "13ffa492",
   "metadata": {},
   "outputs": [],
   "source": [
    "# N/A: No need for this extra geographic variable.\n",
    "\n",
    "# User input: State\n",
    "# region_input = (input(\"Enter a region (City, County, State, etc.): \"))"
   ]
  },
  {
   "cell_type": "code",
   "execution_count": 3,
   "id": "63a04402",
   "metadata": {},
   "outputs": [
    {
     "name": "stdout",
     "output_type": "stream",
     "text": [
      "Enter a location (City, Zip Code, etc.): tokyo\n"
     ]
    }
   ],
   "source": [
    "# User input: City\n",
    "\n",
    "# HTTP GET Request Parameters:\n",
    "# query\t[Required] Specify your query as a free-text address, \n",
    "# place name or using any other common text-based location \n",
    "# identifier (e.g. postal code, city name, region name).\n",
    "\n",
    "query_input = (input(\"Enter a location (City, Zip Code, etc.): \"))"
   ]
  },
  {
   "cell_type": "code",
   "execution_count": 4,
   "id": "ee608e3b",
   "metadata": {},
   "outputs": [
    {
     "data": {
      "text/plain": [
       "'jp | tokyo'"
      ]
     },
     "execution_count": 4,
     "metadata": {},
     "output_type": "execute_result"
    }
   ],
   "source": [
    "# Geo reference for adding to final dataframe.\n",
    "geo_input = country_input  + \" | \" + query_input\n",
    "geo_input"
   ]
  },
  {
   "cell_type": "code",
   "execution_count": 5,
   "id": "f43e25f1",
   "metadata": {},
   "outputs": [
    {
     "name": "stdout",
     "output_type": "stream",
     "text": [
      "{\"data\":[{\"latitude\":35.695126,\"longitude\":139.75391,\"type\":\"locality\",\"name\":\"Tokyo\",\"number\":null,\"postal_code\":null,\"street\":null,\"confidence\":1,\"region\":\"Tokyo\",\"region_code\":\"TK\",\"county\":\"Chiyoda\",\"locality\":\"Tokyo\",\"administrative_area\":null,\"neighbourhood\":null,\"country\":\"Japan\",\"country_code\":\"JPN\",\"continent\":\"Asia\",\"label\":\"Tokyo, Japan\"}]}\n"
     ]
    }
   ],
   "source": [
    "import http.client, urllib.parse\n",
    "\n",
    "conn = http.client.HTTPConnection('api.positionstack.com')\n",
    "\n",
    "params = urllib.parse.urlencode({\n",
    "    'access_key': '1fbf7de4ce05274e9b9005659970c429',\n",
    "    \n",
    "    # Variables get live user input above.\n",
    "    'country': country_input,\n",
    "#     'region': region_input,\n",
    "    'query': query_input,\n",
    "        \n",
    "    # \"limit\" of 1 ensures only 1 Lat/Lon will be passed below.    \n",
    "    'limit': 1\n",
    "    })\n",
    "\n",
    "conn.request('GET', '/v1/forward?{}'.format(params))\n",
    "\n",
    "res = conn.getresponse()\n",
    "geo = res.read()\n",
    "geo_str = (geo.decode('utf-8'))\n",
    "\n",
    "print(geo.decode('utf-8'))\n",
    "\n",
    "###########################################################\n",
    "# Still needs error handling."
   ]
  },
  {
   "cell_type": "code",
   "execution_count": 6,
   "id": "9f34e1b3",
   "metadata": {},
   "outputs": [
    {
     "data": {
      "text/plain": [
       "str"
      ]
     },
     "execution_count": 6,
     "metadata": {},
     "output_type": "execute_result"
    }
   ],
   "source": [
    "# Help from AskBCS:\n",
    "# Result was one long string, that only looked \n",
    "# like a dictionary, but wasn't.\n",
    "# Use \"type()\" to identify whether or not \n",
    "# result is actually a dict.\n",
    "\n",
    "type(geo_str)"
   ]
  },
  {
   "cell_type": "code",
   "execution_count": 7,
   "id": "c63def54",
   "metadata": {},
   "outputs": [
    {
     "name": "stdout",
     "output_type": "stream",
     "text": [
      "{'data': [{'latitude': 35.695126, 'longitude': 139.75391, 'type': 'locality', 'name': 'Tokyo', 'number': None, 'postal_code': None, 'street': None, 'confidence': 1, 'region': 'Tokyo', 'region_code': 'TK', 'county': 'Chiyoda', 'locality': 'Tokyo', 'administrative_area': None, 'neighbourhood': None, 'country': 'Japan', 'country_code': 'JPN', 'continent': 'Asia', 'label': 'Tokyo, Japan'}]}\n"
     ]
    }
   ],
   "source": [
    "# Convert string to json (which is a dictionary).\n",
    "# geo_json\n",
    "geo_json = json.loads(geo_str)\n",
    "\n",
    "print(geo_json)"
   ]
  },
  {
   "cell_type": "markdown",
   "id": "498a150f",
   "metadata": {},
   "source": [
    "##### Reminder: Double parentheses are functional in the for loops."
   ]
  },
  {
   "cell_type": "code",
   "execution_count": 221,
   "id": "1c6e9a64",
   "metadata": {},
   "outputs": [],
   "source": [
    "# # geo_json_coord = lat and lon combined into a tuple.\n",
    "\n",
    "# geo_json_coord = geo_json['data']\n",
    "# latlon_tup = []\n",
    "# for x in geo_json_coord:\n",
    "#     latlon_tup.append((x['latitude'], x['longitude']))"
   ]
  },
  {
   "cell_type": "code",
   "execution_count": 8,
   "id": "16842079",
   "metadata": {},
   "outputs": [
    {
     "data": {
      "text/plain": [
       "35.695126"
      ]
     },
     "execution_count": 8,
     "metadata": {},
     "output_type": "execute_result"
    }
   ],
   "source": [
    "# Pull latitude value by itself.\n",
    "\n",
    "geo_json_lat = geo_json['data']\n",
    "var_lat = []\n",
    "for x in geo_json_lat:\n",
    "    var_lat.append((x['latitude']))\n",
    "    \n",
    "var_lat[0]"
   ]
  },
  {
   "cell_type": "code",
   "execution_count": 9,
   "id": "296d7cc9",
   "metadata": {},
   "outputs": [
    {
     "data": {
      "text/plain": [
       "139.75391"
      ]
     },
     "execution_count": 9,
     "metadata": {},
     "output_type": "execute_result"
    }
   ],
   "source": [
    "# Pull longitude value by itself.\n",
    "\n",
    "geo_json_lon = geo_json['data']\n",
    "var_lon = []\n",
    "for x in geo_json_lon:\n",
    "    var_lon.append((x['longitude']))\n",
    "    \n",
    "var_lon[0]"
   ]
  },
  {
   "cell_type": "markdown",
   "id": "eebf73de",
   "metadata": {},
   "source": [
    "# Push Latitude and Longitude to Weather API URL, based on start date and stop date from user input."
   ]
  },
  {
   "cell_type": "markdown",
   "id": "d842faa9",
   "metadata": {},
   "source": [
    "## Hourly data."
   ]
  },
  {
   "cell_type": "code",
   "execution_count": 224,
   "id": "2025b9e1",
   "metadata": {},
   "outputs": [],
   "source": [
    "# List of columns, for starter dataset, hourly:\n",
    "\n",
    "# hourly_columns = ['time',\n",
    "#              'temperature_2m_degF', \n",
    "#              'relativehumidity_2m_perc', \n",
    "#              'rain_inch',\n",
    "#              'snowfall_cm', \n",
    "#              'cloudcover_perc', \n",
    "#              'windspeed_10m_mph',\n",
    "#              'winddirection_10m_deg']\n",
    "\n",
    "#  We pulled data from 2000-01-01 to 2020-12-31."
   ]
  },
  {
   "cell_type": "markdown",
   "id": "f1a80470",
   "metadata": {},
   "source": [
    "Original Open Meteo API URL, hourly:\n",
    "\n",
    "https://archive-api.open-meteo.com/v1/era5?latitude=52.52&longitude=13.41&start_date=2000-01-01&end_date=2020-12-31&hourly=temperature_2m,relativehumidity_2m,rain,snowfall,cloudcover,windspeed_10m,winddirection_10m&timezone=America%2FLos_Angeles&temperature_unit=fahrenheit&windspeed_unit=mph&precipitation_unit=inch"
   ]
  },
  {
   "cell_type": "code",
   "execution_count": 225,
   "id": "b8700d41",
   "metadata": {},
   "outputs": [],
   "source": [
    "# User input: Start Date\n",
    "# start_date_input = (input(\"Enter the start date (YYYY-MM-DD): \"))"
   ]
  },
  {
   "cell_type": "code",
   "execution_count": 226,
   "id": "eba73806",
   "metadata": {},
   "outputs": [],
   "source": [
    "# User input: End Date\n",
    "# end_date_input = (input(\"Enter the end date (YYYY-MM-DD): \"))"
   ]
  },
  {
   "cell_type": "code",
   "execution_count": 10,
   "id": "cc81cbe8",
   "metadata": {},
   "outputs": [],
   "source": [
    "# Break URL into snippets to be assembled below, hourly:\n",
    "\n",
    "url_snip_hr_1 = \"https://archive-api.open-meteo.com/v1/era5?latitude=\" \n",
    "url_snip_hr_2 = str(var_lat[0])   # latitude, input from previous json\n",
    "url_snip_hr_3 = \"&longitude=\"\n",
    "url_snip_hr_4 = str(var_lon[0])   # longitude, input from previous json\n",
    "\n",
    "\n",
    "\n",
    "url_snip_hr_5 = \"&start_date=\"\n",
    "# url_snip_hr_6 = start_date_input   # start date, input from user\n",
    "url_snip_hr_6 = \"2010-01-01\"   # --- OR --- static start date, for dummy data\n",
    "\n",
    "url_snip_hr_7 = \"&end_date=\"\n",
    "# url_snip_hr_8 = end_date_input   # end date, input from user\n",
    "url_snip_hr_8 = \"2019-12-31\"   # --- OR ---  static end date, for dummy data\n",
    "\n",
    "\n",
    "\n",
    "url_snip_hr_9 = \"&hourly=\"   # elements, hourly\n",
    "url_snip_hr_10 = \"temperature_2m,\"   # data element\n",
    "url_snip_hr_11 = \"relativehumidity_2m,\"   # data element\n",
    "url_snip_hr_12 = \"rain,\"   # data element\n",
    "url_snip_hr_13 = \"snowfall,\"   # data element\n",
    "url_snip_hr_14 = \"cloudcover,\"   # data element\n",
    "url_snip_hr_15 = \"windspeed_10m,\"   # data element\n",
    "url_snip_hr_16 = \"winddirection_10m\"   # data element\n",
    "\n",
    "url_snip_hr_17 = \"&timezone=America%2FLos_Angeles\"   # time zone\n",
    "url_snip_hr_18 = \"&temperature_unit=fahrenheit\"   # temp unit\n",
    "url_snip_hr_19 = \"&windspeed_unit=mph\"   # windspeed unit\n",
    "url_snip_hr_20 = \"&precipitation_unit=inch\"   # precip unit"
   ]
  },
  {
   "cell_type": "code",
   "execution_count": 11,
   "id": "7f5a07d7",
   "metadata": {},
   "outputs": [],
   "source": [
    "# Contatenate the url snippets, hourly.\n",
    "\n",
    "url_hr_concat_full = \\\n",
    "    url_snip_hr_1 + \\\n",
    "    url_snip_hr_2 + \\\n",
    "    url_snip_hr_3 + \\\n",
    "    url_snip_hr_4 + \\\n",
    "    url_snip_hr_5 + \\\n",
    "    url_snip_hr_6 + \\\n",
    "    url_snip_hr_7 + \\\n",
    "    url_snip_hr_8 + \\\n",
    "    url_snip_hr_9 + \\\n",
    "    url_snip_hr_10 + \\\n",
    "    url_snip_hr_11 + \\\n",
    "    url_snip_hr_12 + \\\n",
    "    url_snip_hr_13 + \\\n",
    "    url_snip_hr_14 + \\\n",
    "    url_snip_hr_15 + \\\n",
    "    url_snip_hr_16 + \\\n",
    "    url_snip_hr_17 + \\\n",
    "    url_snip_hr_18 + \\\n",
    "    url_snip_hr_19 + \\\n",
    "    url_snip_hr_20"
   ]
  },
  {
   "cell_type": "code",
   "execution_count": 12,
   "id": "813deb42",
   "metadata": {
    "scrolled": true
   },
   "outputs": [
    {
     "name": "stdout",
     "output_type": "stream",
     "text": [
      "https://archive-api.open-meteo.com/v1/era5?latitude=35.695126&longitude=139.75391&start_date=2010-01-01&end_date=2019-12-31&hourly=temperature_2m,relativehumidity_2m,rain,snowfall,cloudcover,windspeed_10m,winddirection_10m&timezone=America%2FLos_Angeles&temperature_unit=fahrenheit&windspeed_unit=mph&precipitation_unit=inch\n"
     ]
    }
   ],
   "source": [
    "print(url_hr_concat_full)"
   ]
  },
  {
   "cell_type": "code",
   "execution_count": 13,
   "id": "954ed42e",
   "metadata": {},
   "outputs": [],
   "source": [
    "# Data comes in as one long string.\n",
    "weather_hr_str = requests.get(url_hr_concat_full).text"
   ]
  },
  {
   "cell_type": "code",
   "execution_count": 14,
   "id": "72bd699c",
   "metadata": {},
   "outputs": [],
   "source": [
    "# Convert string to dictionary.\n",
    "weather_hr_json = json.loads(weather_hr_str)"
   ]
  },
  {
   "cell_type": "code",
   "execution_count": 15,
   "id": "b9adbe53",
   "metadata": {},
   "outputs": [
    {
     "data": {
      "text/plain": [
       "dict"
      ]
     },
     "execution_count": 15,
     "metadata": {},
     "output_type": "execute_result"
    }
   ],
   "source": [
    "# Verify that data type is dictionary.\n",
    "type(weather_hr_json)"
   ]
  },
  {
   "cell_type": "code",
   "execution_count": 16,
   "id": "56d316a7",
   "metadata": {
    "scrolled": true
   },
   "outputs": [
    {
     "data": {
      "text/html": [
       "<div>\n",
       "<style scoped>\n",
       "    .dataframe tbody tr th:only-of-type {\n",
       "        vertical-align: middle;\n",
       "    }\n",
       "\n",
       "    .dataframe tbody tr th {\n",
       "        vertical-align: top;\n",
       "    }\n",
       "\n",
       "    .dataframe thead th {\n",
       "        text-align: right;\n",
       "    }\n",
       "</style>\n",
       "<table border=\"1\" class=\"dataframe\">\n",
       "  <thead>\n",
       "    <tr style=\"text-align: right;\">\n",
       "      <th></th>\n",
       "      <th>cloudcover</th>\n",
       "      <th>rain</th>\n",
       "      <th>relativehumidity_2m</th>\n",
       "      <th>snowfall</th>\n",
       "      <th>temperature_2m</th>\n",
       "      <th>time</th>\n",
       "      <th>winddirection_10m</th>\n",
       "      <th>windspeed_10m</th>\n",
       "    </tr>\n",
       "  </thead>\n",
       "  <tbody>\n",
       "    <tr>\n",
       "      <th>0</th>\n",
       "      <td>1</td>\n",
       "      <td>0.0</td>\n",
       "      <td>37</td>\n",
       "      <td>0.0</td>\n",
       "      <td>45.0</td>\n",
       "      <td>2010-01-01T00:00</td>\n",
       "      <td>15.0</td>\n",
       "      <td>8.6</td>\n",
       "    </tr>\n",
       "    <tr>\n",
       "      <th>1</th>\n",
       "      <td>0</td>\n",
       "      <td>0.0</td>\n",
       "      <td>48</td>\n",
       "      <td>0.0</td>\n",
       "      <td>41.5</td>\n",
       "      <td>2010-01-01T01:00</td>\n",
       "      <td>21.0</td>\n",
       "      <td>8.1</td>\n",
       "    </tr>\n",
       "    <tr>\n",
       "      <th>2</th>\n",
       "      <td>0</td>\n",
       "      <td>0.0</td>\n",
       "      <td>54</td>\n",
       "      <td>0.0</td>\n",
       "      <td>39.3</td>\n",
       "      <td>2010-01-01T02:00</td>\n",
       "      <td>16.0</td>\n",
       "      <td>7.4</td>\n",
       "    </tr>\n",
       "    <tr>\n",
       "      <th>3</th>\n",
       "      <td>4</td>\n",
       "      <td>0.0</td>\n",
       "      <td>62</td>\n",
       "      <td>0.0</td>\n",
       "      <td>35.8</td>\n",
       "      <td>2010-01-01T03:00</td>\n",
       "      <td>24.0</td>\n",
       "      <td>3.9</td>\n",
       "    </tr>\n",
       "    <tr>\n",
       "      <th>4</th>\n",
       "      <td>1</td>\n",
       "      <td>0.0</td>\n",
       "      <td>64</td>\n",
       "      <td>0.0</td>\n",
       "      <td>34.9</td>\n",
       "      <td>2010-01-01T04:00</td>\n",
       "      <td>20.0</td>\n",
       "      <td>5.2</td>\n",
       "    </tr>\n",
       "    <tr>\n",
       "      <th>...</th>\n",
       "      <td>...</td>\n",
       "      <td>...</td>\n",
       "      <td>...</td>\n",
       "      <td>...</td>\n",
       "      <td>...</td>\n",
       "      <td>...</td>\n",
       "      <td>...</td>\n",
       "      <td>...</td>\n",
       "    </tr>\n",
       "    <tr>\n",
       "      <th>87643</th>\n",
       "      <td>24</td>\n",
       "      <td>0.0</td>\n",
       "      <td>41</td>\n",
       "      <td>0.0</td>\n",
       "      <td>43.2</td>\n",
       "      <td>2019-12-31T19:00</td>\n",
       "      <td>5.0</td>\n",
       "      <td>4.7</td>\n",
       "    </tr>\n",
       "    <tr>\n",
       "      <th>87644</th>\n",
       "      <td>35</td>\n",
       "      <td>0.0</td>\n",
       "      <td>40</td>\n",
       "      <td>0.0</td>\n",
       "      <td>44.8</td>\n",
       "      <td>2019-12-31T20:00</td>\n",
       "      <td>27.0</td>\n",
       "      <td>2.0</td>\n",
       "    </tr>\n",
       "    <tr>\n",
       "      <th>87645</th>\n",
       "      <td>8</td>\n",
       "      <td>0.0</td>\n",
       "      <td>40</td>\n",
       "      <td>0.0</td>\n",
       "      <td>46.0</td>\n",
       "      <td>2019-12-31T21:00</td>\n",
       "      <td>120.0</td>\n",
       "      <td>1.8</td>\n",
       "    </tr>\n",
       "    <tr>\n",
       "      <th>87646</th>\n",
       "      <td>0</td>\n",
       "      <td>0.0</td>\n",
       "      <td>41</td>\n",
       "      <td>0.0</td>\n",
       "      <td>46.8</td>\n",
       "      <td>2019-12-31T22:00</td>\n",
       "      <td>156.0</td>\n",
       "      <td>2.7</td>\n",
       "    </tr>\n",
       "    <tr>\n",
       "      <th>87647</th>\n",
       "      <td>0</td>\n",
       "      <td>0.0</td>\n",
       "      <td>46</td>\n",
       "      <td>0.0</td>\n",
       "      <td>47.3</td>\n",
       "      <td>2019-12-31T23:00</td>\n",
       "      <td>165.0</td>\n",
       "      <td>5.3</td>\n",
       "    </tr>\n",
       "  </tbody>\n",
       "</table>\n",
       "<p>87648 rows × 8 columns</p>\n",
       "</div>"
      ],
      "text/plain": [
       "       cloudcover  rain  relativehumidity_2m  snowfall  temperature_2m  \\\n",
       "0               1   0.0                   37       0.0            45.0   \n",
       "1               0   0.0                   48       0.0            41.5   \n",
       "2               0   0.0                   54       0.0            39.3   \n",
       "3               4   0.0                   62       0.0            35.8   \n",
       "4               1   0.0                   64       0.0            34.9   \n",
       "...           ...   ...                  ...       ...             ...   \n",
       "87643          24   0.0                   41       0.0            43.2   \n",
       "87644          35   0.0                   40       0.0            44.8   \n",
       "87645           8   0.0                   40       0.0            46.0   \n",
       "87646           0   0.0                   41       0.0            46.8   \n",
       "87647           0   0.0                   46       0.0            47.3   \n",
       "\n",
       "                   time  winddirection_10m  windspeed_10m  \n",
       "0      2010-01-01T00:00               15.0            8.6  \n",
       "1      2010-01-01T01:00               21.0            8.1  \n",
       "2      2010-01-01T02:00               16.0            7.4  \n",
       "3      2010-01-01T03:00               24.0            3.9  \n",
       "4      2010-01-01T04:00               20.0            5.2  \n",
       "...                 ...                ...            ...  \n",
       "87643  2019-12-31T19:00                5.0            4.7  \n",
       "87644  2019-12-31T20:00               27.0            2.0  \n",
       "87645  2019-12-31T21:00              120.0            1.8  \n",
       "87646  2019-12-31T22:00              156.0            2.7  \n",
       "87647  2019-12-31T23:00              165.0            5.3  \n",
       "\n",
       "[87648 rows x 8 columns]"
      ]
     },
     "execution_count": 16,
     "metadata": {},
     "output_type": "execute_result"
    }
   ],
   "source": [
    "# Convert json dictionary into dataframe.\n",
    "\n",
    "# Standard \"pd.json_normalize(weather_json)\" doesn't work \n",
    "# with these nested levels. Also tried adding \"record_path\"\n",
    "# and \"meta\" tags, but still didn't work.\n",
    "# Found \"from_records\" alternative that does work.\n",
    "\n",
    "# N/A: Code from:\n",
    "# https://stackoverflow.com/questions/66894920/json-normalise-from-nested-api-to-df-throwing-type-error\n",
    "# Creates \"pivot\" table format with all entries as columns, \n",
    "# all variables as rows.\n",
    "# Not what we need, but might be useful for other datasets.\n",
    "# dftest3 = pd.DataFrame.from_records(weather_json['hourly']).T.reset_index()\n",
    "\n",
    "\n",
    "# Code from:\n",
    "# https://stackoverflow.com/questions/66894920/json-normalise-from-nested-api-to-df-throwing-type-error\n",
    "\n",
    "weather_hourly_raw = pd.DataFrame.from_records(weather_hr_json['hourly'])\n",
    "weather_hourly_raw"
   ]
  },
  {
   "cell_type": "code",
   "execution_count": 17,
   "id": "e2298d91",
   "metadata": {},
   "outputs": [
    {
     "data": {
      "text/html": [
       "<div>\n",
       "<style scoped>\n",
       "    .dataframe tbody tr th:only-of-type {\n",
       "        vertical-align: middle;\n",
       "    }\n",
       "\n",
       "    .dataframe tbody tr th {\n",
       "        vertical-align: top;\n",
       "    }\n",
       "\n",
       "    .dataframe thead th {\n",
       "        text-align: right;\n",
       "    }\n",
       "</style>\n",
       "<table border=\"1\" class=\"dataframe\">\n",
       "  <thead>\n",
       "    <tr style=\"text-align: right;\">\n",
       "      <th></th>\n",
       "      <th>cloudcover</th>\n",
       "      <th>rain</th>\n",
       "      <th>relativehumidity_2m</th>\n",
       "      <th>snowfall</th>\n",
       "      <th>temperature_2m</th>\n",
       "      <th>time</th>\n",
       "      <th>winddirection_10m</th>\n",
       "      <th>windspeed_10m</th>\n",
       "      <th>geo</th>\n",
       "    </tr>\n",
       "  </thead>\n",
       "  <tbody>\n",
       "    <tr>\n",
       "      <th>0</th>\n",
       "      <td>1</td>\n",
       "      <td>0.0</td>\n",
       "      <td>37</td>\n",
       "      <td>0.0</td>\n",
       "      <td>45.0</td>\n",
       "      <td>2010-01-01T00:00</td>\n",
       "      <td>15.0</td>\n",
       "      <td>8.6</td>\n",
       "      <td>jp | tokyo</td>\n",
       "    </tr>\n",
       "    <tr>\n",
       "      <th>1</th>\n",
       "      <td>0</td>\n",
       "      <td>0.0</td>\n",
       "      <td>48</td>\n",
       "      <td>0.0</td>\n",
       "      <td>41.5</td>\n",
       "      <td>2010-01-01T01:00</td>\n",
       "      <td>21.0</td>\n",
       "      <td>8.1</td>\n",
       "      <td>jp | tokyo</td>\n",
       "    </tr>\n",
       "    <tr>\n",
       "      <th>2</th>\n",
       "      <td>0</td>\n",
       "      <td>0.0</td>\n",
       "      <td>54</td>\n",
       "      <td>0.0</td>\n",
       "      <td>39.3</td>\n",
       "      <td>2010-01-01T02:00</td>\n",
       "      <td>16.0</td>\n",
       "      <td>7.4</td>\n",
       "      <td>jp | tokyo</td>\n",
       "    </tr>\n",
       "    <tr>\n",
       "      <th>3</th>\n",
       "      <td>4</td>\n",
       "      <td>0.0</td>\n",
       "      <td>62</td>\n",
       "      <td>0.0</td>\n",
       "      <td>35.8</td>\n",
       "      <td>2010-01-01T03:00</td>\n",
       "      <td>24.0</td>\n",
       "      <td>3.9</td>\n",
       "      <td>jp | tokyo</td>\n",
       "    </tr>\n",
       "    <tr>\n",
       "      <th>4</th>\n",
       "      <td>1</td>\n",
       "      <td>0.0</td>\n",
       "      <td>64</td>\n",
       "      <td>0.0</td>\n",
       "      <td>34.9</td>\n",
       "      <td>2010-01-01T04:00</td>\n",
       "      <td>20.0</td>\n",
       "      <td>5.2</td>\n",
       "      <td>jp | tokyo</td>\n",
       "    </tr>\n",
       "    <tr>\n",
       "      <th>...</th>\n",
       "      <td>...</td>\n",
       "      <td>...</td>\n",
       "      <td>...</td>\n",
       "      <td>...</td>\n",
       "      <td>...</td>\n",
       "      <td>...</td>\n",
       "      <td>...</td>\n",
       "      <td>...</td>\n",
       "      <td>...</td>\n",
       "    </tr>\n",
       "    <tr>\n",
       "      <th>87643</th>\n",
       "      <td>24</td>\n",
       "      <td>0.0</td>\n",
       "      <td>41</td>\n",
       "      <td>0.0</td>\n",
       "      <td>43.2</td>\n",
       "      <td>2019-12-31T19:00</td>\n",
       "      <td>5.0</td>\n",
       "      <td>4.7</td>\n",
       "      <td>jp | tokyo</td>\n",
       "    </tr>\n",
       "    <tr>\n",
       "      <th>87644</th>\n",
       "      <td>35</td>\n",
       "      <td>0.0</td>\n",
       "      <td>40</td>\n",
       "      <td>0.0</td>\n",
       "      <td>44.8</td>\n",
       "      <td>2019-12-31T20:00</td>\n",
       "      <td>27.0</td>\n",
       "      <td>2.0</td>\n",
       "      <td>jp | tokyo</td>\n",
       "    </tr>\n",
       "    <tr>\n",
       "      <th>87645</th>\n",
       "      <td>8</td>\n",
       "      <td>0.0</td>\n",
       "      <td>40</td>\n",
       "      <td>0.0</td>\n",
       "      <td>46.0</td>\n",
       "      <td>2019-12-31T21:00</td>\n",
       "      <td>120.0</td>\n",
       "      <td>1.8</td>\n",
       "      <td>jp | tokyo</td>\n",
       "    </tr>\n",
       "    <tr>\n",
       "      <th>87646</th>\n",
       "      <td>0</td>\n",
       "      <td>0.0</td>\n",
       "      <td>41</td>\n",
       "      <td>0.0</td>\n",
       "      <td>46.8</td>\n",
       "      <td>2019-12-31T22:00</td>\n",
       "      <td>156.0</td>\n",
       "      <td>2.7</td>\n",
       "      <td>jp | tokyo</td>\n",
       "    </tr>\n",
       "    <tr>\n",
       "      <th>87647</th>\n",
       "      <td>0</td>\n",
       "      <td>0.0</td>\n",
       "      <td>46</td>\n",
       "      <td>0.0</td>\n",
       "      <td>47.3</td>\n",
       "      <td>2019-12-31T23:00</td>\n",
       "      <td>165.0</td>\n",
       "      <td>5.3</td>\n",
       "      <td>jp | tokyo</td>\n",
       "    </tr>\n",
       "  </tbody>\n",
       "</table>\n",
       "<p>87648 rows × 9 columns</p>\n",
       "</div>"
      ],
      "text/plain": [
       "       cloudcover  rain  relativehumidity_2m  snowfall  temperature_2m  \\\n",
       "0               1   0.0                   37       0.0            45.0   \n",
       "1               0   0.0                   48       0.0            41.5   \n",
       "2               0   0.0                   54       0.0            39.3   \n",
       "3               4   0.0                   62       0.0            35.8   \n",
       "4               1   0.0                   64       0.0            34.9   \n",
       "...           ...   ...                  ...       ...             ...   \n",
       "87643          24   0.0                   41       0.0            43.2   \n",
       "87644          35   0.0                   40       0.0            44.8   \n",
       "87645           8   0.0                   40       0.0            46.0   \n",
       "87646           0   0.0                   41       0.0            46.8   \n",
       "87647           0   0.0                   46       0.0            47.3   \n",
       "\n",
       "                   time  winddirection_10m  windspeed_10m         geo  \n",
       "0      2010-01-01T00:00               15.0            8.6  jp | tokyo  \n",
       "1      2010-01-01T01:00               21.0            8.1  jp | tokyo  \n",
       "2      2010-01-01T02:00               16.0            7.4  jp | tokyo  \n",
       "3      2010-01-01T03:00               24.0            3.9  jp | tokyo  \n",
       "4      2010-01-01T04:00               20.0            5.2  jp | tokyo  \n",
       "...                 ...                ...            ...         ...  \n",
       "87643  2019-12-31T19:00                5.0            4.7  jp | tokyo  \n",
       "87644  2019-12-31T20:00               27.0            2.0  jp | tokyo  \n",
       "87645  2019-12-31T21:00              120.0            1.8  jp | tokyo  \n",
       "87646  2019-12-31T22:00              156.0            2.7  jp | tokyo  \n",
       "87647  2019-12-31T23:00              165.0            5.3  jp | tokyo  \n",
       "\n",
       "[87648 rows x 9 columns]"
      ]
     },
     "execution_count": 17,
     "metadata": {},
     "output_type": "execute_result"
    }
   ],
   "source": [
    "# Add geo input from user as new column, for reference.\n",
    "\n",
    "weather_hourly_raw['geo'] = geo_input\n",
    "weather_hourly_raw"
   ]
  },
  {
   "cell_type": "code",
   "execution_count": null,
   "id": "c4683026",
   "metadata": {},
   "outputs": [],
   "source": []
  },
  {
   "cell_type": "code",
   "execution_count": null,
   "id": "bbc47d01",
   "metadata": {},
   "outputs": [],
   "source": []
  },
  {
   "cell_type": "code",
   "execution_count": null,
   "id": "29138516",
   "metadata": {},
   "outputs": [],
   "source": []
  },
  {
   "cell_type": "code",
   "execution_count": null,
   "id": "dbacbb6b",
   "metadata": {},
   "outputs": [],
   "source": []
  },
  {
   "cell_type": "code",
   "execution_count": null,
   "id": "655d756c",
   "metadata": {},
   "outputs": [],
   "source": []
  },
  {
   "cell_type": "code",
   "execution_count": null,
   "id": "b6c804d6",
   "metadata": {},
   "outputs": [],
   "source": []
  },
  {
   "cell_type": "markdown",
   "id": "9414c039",
   "metadata": {},
   "source": [
    "## Daily data."
   ]
  },
  {
   "cell_type": "code",
   "execution_count": 235,
   "id": "d833ce27",
   "metadata": {},
   "outputs": [],
   "source": [
    "# List of columns, for starter dataset, daily:\n",
    "\n",
    "# daily_columns = ['time',\n",
    "#            'temperature_2m_degF_max',\n",
    "#            'temperature_2m_degF_min',  \n",
    "#            'rain_inch',\n",
    "#            'snowfall_cm',\n",
    "#            'precipitation_hours'\n",
    "#           ]\n",
    "\n",
    "#  We pulled data from 2000-01-01 to 2020-12-31."
   ]
  },
  {
   "cell_type": "markdown",
   "id": "e743a3a1",
   "metadata": {},
   "source": [
    "Original Open Meteo API URL, daily:\n",
    "\n",
    "https://archive-api.open-meteo.com/v1/era5?latitude=52.52&longitude=13.41&start_date=2000-01-01&end_date=2020-12-31&daily=temperature_2m_max,temperature_2m_min,rain_sum,snowfall_sum,precipitation_hours&timezone=America%2FLos_Angeles&temperature_unit=fahrenheit&windspeed_unit=mph&precipitation_unit=inch"
   ]
  },
  {
   "cell_type": "code",
   "execution_count": 18,
   "id": "0ac17241",
   "metadata": {},
   "outputs": [],
   "source": [
    "# Break URL into snippets to be assembled below, daily:\n",
    "\n",
    "url_snip_dy_1 = \"https://archive-api.open-meteo.com/v1/era5?latitude=\" \n",
    "url_snip_dy_2 = str(var_lat[0])   # latitude, input from previous json\n",
    "url_snip_dy_3 = \"&longitude=\"\n",
    "url_snip_dy_4 = str(var_lon[0])   # longitude, input from previous json\n",
    "\n",
    "\n",
    "\n",
    "url_snip_dy_5 = \"&start_date=\"\n",
    "# url_snip_dy_6 = start_date_input   # start date, input from user\n",
    "url_snip_dy_6 = \"2010-01-01\"   # --- OR --- static start date, for dummy data\n",
    "\n",
    "url_snip_dy_7 = \"&end_date=\"\n",
    "# url_snip_dy_8 = end_date_input   # end date, input from user\n",
    "url_snip_dy_8 = \"2019-12-31\"   # --- OR ---  static end date, for dummy data\n",
    "\n",
    "\n",
    "\n",
    "url_snip_dy_9 = \"&daily=\"   # elements, daily\n",
    "url_snip_dy_10 = \"temperature_2m_max,\"   # data element\n",
    "url_snip_dy_11 = \"temperature_2m_min,\"   # data element\n",
    "url_snip_dy_12 = \"rain_sum,\"   # data element\n",
    "url_snip_dy_13 = \"snowfall_sum,\"   # data element\n",
    "url_snip_dy_14 = \"precipitation_hours\"   # data element\n",
    "\n",
    "\n",
    "url_snip_dy_15 = \"&timezone=America%2FLos_Angeles\"   # time zone\n",
    "url_snip_dy_16 = \"&temperature_unit=fahrenheit\"   # temp unit\n",
    "url_snip_dy_17 = \"&windspeed_unit=mph\"   # windspeed unit\n",
    "url_snip_dy_18 = \"&precipitation_unit=inch\"   # precip unit"
   ]
  },
  {
   "cell_type": "code",
   "execution_count": 19,
   "id": "c2ebf1ef",
   "metadata": {},
   "outputs": [],
   "source": [
    "# Contatenate the url snippets, hourly.\n",
    "\n",
    "url_dy_concat_full = \\\n",
    "    url_snip_dy_1 + \\\n",
    "    url_snip_dy_2 + \\\n",
    "    url_snip_dy_3 + \\\n",
    "    url_snip_dy_4 + \\\n",
    "    url_snip_dy_5 + \\\n",
    "    url_snip_dy_6 + \\\n",
    "    url_snip_dy_7 + \\\n",
    "    url_snip_dy_8 + \\\n",
    "    url_snip_dy_9 + \\\n",
    "    url_snip_dy_10 + \\\n",
    "    url_snip_dy_11 + \\\n",
    "    url_snip_dy_12 + \\\n",
    "    url_snip_dy_13 + \\\n",
    "    url_snip_dy_14 + \\\n",
    "    url_snip_dy_15 + \\\n",
    "    url_snip_dy_16 + \\\n",
    "    url_snip_dy_17 + \\\n",
    "    url_snip_dy_18"
   ]
  },
  {
   "cell_type": "code",
   "execution_count": 20,
   "id": "c1467746",
   "metadata": {
    "scrolled": true
   },
   "outputs": [
    {
     "name": "stdout",
     "output_type": "stream",
     "text": [
      "https://archive-api.open-meteo.com/v1/era5?latitude=35.695126&longitude=139.75391&start_date=2010-01-01&end_date=2019-12-31&daily=temperature_2m_max,temperature_2m_min,rain_sum,snowfall_sum,precipitation_hours&timezone=America%2FLos_Angeles&temperature_unit=fahrenheit&windspeed_unit=mph&precipitation_unit=inch\n"
     ]
    }
   ],
   "source": [
    "print(url_dy_concat_full)"
   ]
  },
  {
   "cell_type": "code",
   "execution_count": 21,
   "id": "dbefb19d",
   "metadata": {},
   "outputs": [],
   "source": [
    "# Data comes in as one long string.\n",
    "weather_dy_str = requests.get(url_dy_concat_full).text"
   ]
  },
  {
   "cell_type": "code",
   "execution_count": 22,
   "id": "e7d50309",
   "metadata": {},
   "outputs": [],
   "source": [
    "# Convert string to dictionary.\n",
    "weather_dy_json = json.loads(weather_dy_str)"
   ]
  },
  {
   "cell_type": "code",
   "execution_count": 23,
   "id": "cbddda00",
   "metadata": {},
   "outputs": [
    {
     "data": {
      "text/plain": [
       "dict"
      ]
     },
     "execution_count": 23,
     "metadata": {},
     "output_type": "execute_result"
    }
   ],
   "source": [
    "# Verify that data type is dictionary.\n",
    "type(weather_dy_json)"
   ]
  },
  {
   "cell_type": "code",
   "execution_count": 24,
   "id": "691a4e60",
   "metadata": {
    "scrolled": true
   },
   "outputs": [
    {
     "data": {
      "text/html": [
       "<div>\n",
       "<style scoped>\n",
       "    .dataframe tbody tr th:only-of-type {\n",
       "        vertical-align: middle;\n",
       "    }\n",
       "\n",
       "    .dataframe tbody tr th {\n",
       "        vertical-align: top;\n",
       "    }\n",
       "\n",
       "    .dataframe thead th {\n",
       "        text-align: right;\n",
       "    }\n",
       "</style>\n",
       "<table border=\"1\" class=\"dataframe\">\n",
       "  <thead>\n",
       "    <tr style=\"text-align: right;\">\n",
       "      <th></th>\n",
       "      <th>precipitation_hours</th>\n",
       "      <th>rain_sum</th>\n",
       "      <th>snowfall_sum</th>\n",
       "      <th>temperature_2m_max</th>\n",
       "      <th>temperature_2m_min</th>\n",
       "      <th>time</th>\n",
       "    </tr>\n",
       "  </thead>\n",
       "  <tbody>\n",
       "    <tr>\n",
       "      <th>0</th>\n",
       "      <td>0.0</td>\n",
       "      <td>0.00</td>\n",
       "      <td>0.0</td>\n",
       "      <td>50.9</td>\n",
       "      <td>32.2</td>\n",
       "      <td>2010-01-01</td>\n",
       "    </tr>\n",
       "    <tr>\n",
       "      <th>1</th>\n",
       "      <td>0.0</td>\n",
       "      <td>0.00</td>\n",
       "      <td>0.0</td>\n",
       "      <td>49.3</td>\n",
       "      <td>32.0</td>\n",
       "      <td>2010-01-02</td>\n",
       "    </tr>\n",
       "    <tr>\n",
       "      <th>2</th>\n",
       "      <td>0.0</td>\n",
       "      <td>0.00</td>\n",
       "      <td>0.0</td>\n",
       "      <td>47.0</td>\n",
       "      <td>33.6</td>\n",
       "      <td>2010-01-03</td>\n",
       "    </tr>\n",
       "    <tr>\n",
       "      <th>3</th>\n",
       "      <td>3.0</td>\n",
       "      <td>0.05</td>\n",
       "      <td>0.0</td>\n",
       "      <td>54.5</td>\n",
       "      <td>38.1</td>\n",
       "      <td>2010-01-04</td>\n",
       "    </tr>\n",
       "    <tr>\n",
       "      <th>4</th>\n",
       "      <td>1.0</td>\n",
       "      <td>0.00</td>\n",
       "      <td>0.0</td>\n",
       "      <td>51.4</td>\n",
       "      <td>35.9</td>\n",
       "      <td>2010-01-05</td>\n",
       "    </tr>\n",
       "    <tr>\n",
       "      <th>...</th>\n",
       "      <td>...</td>\n",
       "      <td>...</td>\n",
       "      <td>...</td>\n",
       "      <td>...</td>\n",
       "      <td>...</td>\n",
       "      <td>...</td>\n",
       "    </tr>\n",
       "    <tr>\n",
       "      <th>3647</th>\n",
       "      <td>0.0</td>\n",
       "      <td>0.00</td>\n",
       "      <td>0.0</td>\n",
       "      <td>50.6</td>\n",
       "      <td>37.8</td>\n",
       "      <td>2019-12-27</td>\n",
       "    </tr>\n",
       "    <tr>\n",
       "      <th>3648</th>\n",
       "      <td>0.0</td>\n",
       "      <td>0.00</td>\n",
       "      <td>0.0</td>\n",
       "      <td>49.3</td>\n",
       "      <td>36.0</td>\n",
       "      <td>2019-12-28</td>\n",
       "    </tr>\n",
       "    <tr>\n",
       "      <th>3649</th>\n",
       "      <td>2.0</td>\n",
       "      <td>0.01</td>\n",
       "      <td>0.0</td>\n",
       "      <td>48.6</td>\n",
       "      <td>41.7</td>\n",
       "      <td>2019-12-29</td>\n",
       "    </tr>\n",
       "    <tr>\n",
       "      <th>3650</th>\n",
       "      <td>0.0</td>\n",
       "      <td>0.00</td>\n",
       "      <td>0.0</td>\n",
       "      <td>64.1</td>\n",
       "      <td>41.3</td>\n",
       "      <td>2019-12-30</td>\n",
       "    </tr>\n",
       "    <tr>\n",
       "      <th>3651</th>\n",
       "      <td>0.0</td>\n",
       "      <td>0.00</td>\n",
       "      <td>0.0</td>\n",
       "      <td>50.7</td>\n",
       "      <td>35.7</td>\n",
       "      <td>2019-12-31</td>\n",
       "    </tr>\n",
       "  </tbody>\n",
       "</table>\n",
       "<p>3652 rows × 6 columns</p>\n",
       "</div>"
      ],
      "text/plain": [
       "      precipitation_hours  rain_sum  snowfall_sum  temperature_2m_max  \\\n",
       "0                     0.0      0.00           0.0                50.9   \n",
       "1                     0.0      0.00           0.0                49.3   \n",
       "2                     0.0      0.00           0.0                47.0   \n",
       "3                     3.0      0.05           0.0                54.5   \n",
       "4                     1.0      0.00           0.0                51.4   \n",
       "...                   ...       ...           ...                 ...   \n",
       "3647                  0.0      0.00           0.0                50.6   \n",
       "3648                  0.0      0.00           0.0                49.3   \n",
       "3649                  2.0      0.01           0.0                48.6   \n",
       "3650                  0.0      0.00           0.0                64.1   \n",
       "3651                  0.0      0.00           0.0                50.7   \n",
       "\n",
       "      temperature_2m_min        time  \n",
       "0                   32.2  2010-01-01  \n",
       "1                   32.0  2010-01-02  \n",
       "2                   33.6  2010-01-03  \n",
       "3                   38.1  2010-01-04  \n",
       "4                   35.9  2010-01-05  \n",
       "...                  ...         ...  \n",
       "3647                37.8  2019-12-27  \n",
       "3648                36.0  2019-12-28  \n",
       "3649                41.7  2019-12-29  \n",
       "3650                41.3  2019-12-30  \n",
       "3651                35.7  2019-12-31  \n",
       "\n",
       "[3652 rows x 6 columns]"
      ]
     },
     "execution_count": 24,
     "metadata": {},
     "output_type": "execute_result"
    }
   ],
   "source": [
    "# Convert json dictionary into dataframe.\n",
    "\n",
    "# Standard \"pd.json_normalize(weather_json)\" doesn't work \n",
    "# with these nested levels. Also tried adding \"record_path\"\n",
    "# and \"meta\" tags, but still didn't work.\n",
    "# Found \"from_records\" alternative that does work.\n",
    "\n",
    "# N/A: Code from:\n",
    "# https://stackoverflow.com/questions/66894920/json-normalise-from-nested-api-to-df-throwing-type-error\n",
    "# Creates \"pivot\" table format with all entries as columns, \n",
    "# all variables as rows.\n",
    "# Not what we need, but might be useful for other datasets.\n",
    "# dftest3 = pd.DataFrame.from_records(weather_json['hourly']).T.reset_index()\n",
    "\n",
    "\n",
    "# Code from:\n",
    "# https://stackoverflow.com/questions/66894920/json-normalise-from-nested-api-to-df-throwing-type-error\n",
    "\n",
    "weather_daily_raw = pd.DataFrame.from_records(weather_dy_json['daily'])\n",
    "weather_daily_raw"
   ]
  },
  {
   "cell_type": "code",
   "execution_count": 25,
   "id": "41d0cc7d",
   "metadata": {},
   "outputs": [
    {
     "data": {
      "text/html": [
       "<div>\n",
       "<style scoped>\n",
       "    .dataframe tbody tr th:only-of-type {\n",
       "        vertical-align: middle;\n",
       "    }\n",
       "\n",
       "    .dataframe tbody tr th {\n",
       "        vertical-align: top;\n",
       "    }\n",
       "\n",
       "    .dataframe thead th {\n",
       "        text-align: right;\n",
       "    }\n",
       "</style>\n",
       "<table border=\"1\" class=\"dataframe\">\n",
       "  <thead>\n",
       "    <tr style=\"text-align: right;\">\n",
       "      <th></th>\n",
       "      <th>precipitation_hours</th>\n",
       "      <th>rain_sum</th>\n",
       "      <th>snowfall_sum</th>\n",
       "      <th>temperature_2m_max</th>\n",
       "      <th>temperature_2m_min</th>\n",
       "      <th>time</th>\n",
       "      <th>geo</th>\n",
       "    </tr>\n",
       "  </thead>\n",
       "  <tbody>\n",
       "    <tr>\n",
       "      <th>0</th>\n",
       "      <td>0.0</td>\n",
       "      <td>0.00</td>\n",
       "      <td>0.0</td>\n",
       "      <td>50.9</td>\n",
       "      <td>32.2</td>\n",
       "      <td>2010-01-01</td>\n",
       "      <td>jp | tokyo</td>\n",
       "    </tr>\n",
       "    <tr>\n",
       "      <th>1</th>\n",
       "      <td>0.0</td>\n",
       "      <td>0.00</td>\n",
       "      <td>0.0</td>\n",
       "      <td>49.3</td>\n",
       "      <td>32.0</td>\n",
       "      <td>2010-01-02</td>\n",
       "      <td>jp | tokyo</td>\n",
       "    </tr>\n",
       "    <tr>\n",
       "      <th>2</th>\n",
       "      <td>0.0</td>\n",
       "      <td>0.00</td>\n",
       "      <td>0.0</td>\n",
       "      <td>47.0</td>\n",
       "      <td>33.6</td>\n",
       "      <td>2010-01-03</td>\n",
       "      <td>jp | tokyo</td>\n",
       "    </tr>\n",
       "    <tr>\n",
       "      <th>3</th>\n",
       "      <td>3.0</td>\n",
       "      <td>0.05</td>\n",
       "      <td>0.0</td>\n",
       "      <td>54.5</td>\n",
       "      <td>38.1</td>\n",
       "      <td>2010-01-04</td>\n",
       "      <td>jp | tokyo</td>\n",
       "    </tr>\n",
       "    <tr>\n",
       "      <th>4</th>\n",
       "      <td>1.0</td>\n",
       "      <td>0.00</td>\n",
       "      <td>0.0</td>\n",
       "      <td>51.4</td>\n",
       "      <td>35.9</td>\n",
       "      <td>2010-01-05</td>\n",
       "      <td>jp | tokyo</td>\n",
       "    </tr>\n",
       "    <tr>\n",
       "      <th>...</th>\n",
       "      <td>...</td>\n",
       "      <td>...</td>\n",
       "      <td>...</td>\n",
       "      <td>...</td>\n",
       "      <td>...</td>\n",
       "      <td>...</td>\n",
       "      <td>...</td>\n",
       "    </tr>\n",
       "    <tr>\n",
       "      <th>3647</th>\n",
       "      <td>0.0</td>\n",
       "      <td>0.00</td>\n",
       "      <td>0.0</td>\n",
       "      <td>50.6</td>\n",
       "      <td>37.8</td>\n",
       "      <td>2019-12-27</td>\n",
       "      <td>jp | tokyo</td>\n",
       "    </tr>\n",
       "    <tr>\n",
       "      <th>3648</th>\n",
       "      <td>0.0</td>\n",
       "      <td>0.00</td>\n",
       "      <td>0.0</td>\n",
       "      <td>49.3</td>\n",
       "      <td>36.0</td>\n",
       "      <td>2019-12-28</td>\n",
       "      <td>jp | tokyo</td>\n",
       "    </tr>\n",
       "    <tr>\n",
       "      <th>3649</th>\n",
       "      <td>2.0</td>\n",
       "      <td>0.01</td>\n",
       "      <td>0.0</td>\n",
       "      <td>48.6</td>\n",
       "      <td>41.7</td>\n",
       "      <td>2019-12-29</td>\n",
       "      <td>jp | tokyo</td>\n",
       "    </tr>\n",
       "    <tr>\n",
       "      <th>3650</th>\n",
       "      <td>0.0</td>\n",
       "      <td>0.00</td>\n",
       "      <td>0.0</td>\n",
       "      <td>64.1</td>\n",
       "      <td>41.3</td>\n",
       "      <td>2019-12-30</td>\n",
       "      <td>jp | tokyo</td>\n",
       "    </tr>\n",
       "    <tr>\n",
       "      <th>3651</th>\n",
       "      <td>0.0</td>\n",
       "      <td>0.00</td>\n",
       "      <td>0.0</td>\n",
       "      <td>50.7</td>\n",
       "      <td>35.7</td>\n",
       "      <td>2019-12-31</td>\n",
       "      <td>jp | tokyo</td>\n",
       "    </tr>\n",
       "  </tbody>\n",
       "</table>\n",
       "<p>3652 rows × 7 columns</p>\n",
       "</div>"
      ],
      "text/plain": [
       "      precipitation_hours  rain_sum  snowfall_sum  temperature_2m_max  \\\n",
       "0                     0.0      0.00           0.0                50.9   \n",
       "1                     0.0      0.00           0.0                49.3   \n",
       "2                     0.0      0.00           0.0                47.0   \n",
       "3                     3.0      0.05           0.0                54.5   \n",
       "4                     1.0      0.00           0.0                51.4   \n",
       "...                   ...       ...           ...                 ...   \n",
       "3647                  0.0      0.00           0.0                50.6   \n",
       "3648                  0.0      0.00           0.0                49.3   \n",
       "3649                  2.0      0.01           0.0                48.6   \n",
       "3650                  0.0      0.00           0.0                64.1   \n",
       "3651                  0.0      0.00           0.0                50.7   \n",
       "\n",
       "      temperature_2m_min        time         geo  \n",
       "0                   32.2  2010-01-01  jp | tokyo  \n",
       "1                   32.0  2010-01-02  jp | tokyo  \n",
       "2                   33.6  2010-01-03  jp | tokyo  \n",
       "3                   38.1  2010-01-04  jp | tokyo  \n",
       "4                   35.9  2010-01-05  jp | tokyo  \n",
       "...                  ...         ...         ...  \n",
       "3647                37.8  2019-12-27  jp | tokyo  \n",
       "3648                36.0  2019-12-28  jp | tokyo  \n",
       "3649                41.7  2019-12-29  jp | tokyo  \n",
       "3650                41.3  2019-12-30  jp | tokyo  \n",
       "3651                35.7  2019-12-31  jp | tokyo  \n",
       "\n",
       "[3652 rows x 7 columns]"
      ]
     },
     "execution_count": 25,
     "metadata": {},
     "output_type": "execute_result"
    }
   ],
   "source": [
    "# Add geo input from user as new column, for reference.\n",
    "\n",
    "weather_daily_raw['geo'] = geo_input\n",
    "weather_daily_raw"
   ]
  },
  {
   "cell_type": "code",
   "execution_count": null,
   "id": "92507c13",
   "metadata": {},
   "outputs": [],
   "source": []
  },
  {
   "cell_type": "code",
   "execution_count": null,
   "id": "94d6f974",
   "metadata": {},
   "outputs": [],
   "source": []
  },
  {
   "cell_type": "code",
   "execution_count": null,
   "id": "cfdd2af9",
   "metadata": {},
   "outputs": [],
   "source": []
  },
  {
   "cell_type": "markdown",
   "id": "68f5b8ef",
   "metadata": {},
   "source": [
    "## aggregating hourlies into dailies for historical summary"
   ]
  },
  {
   "cell_type": "code",
   "execution_count": 27,
   "id": "88e09c84",
   "metadata": {},
   "outputs": [
    {
     "name": "stdout",
     "output_type": "stream",
     "text": [
      "<class 'pandas.core.frame.DataFrame'>\n",
      "RangeIndex: 87648 entries, 0 to 87647\n",
      "Data columns (total 9 columns):\n",
      " #   Column               Non-Null Count  Dtype  \n",
      "---  ------               --------------  -----  \n",
      " 0   cloudcover           87648 non-null  int64  \n",
      " 1   rain                 87648 non-null  float64\n",
      " 2   relativehumidity_2m  87648 non-null  int64  \n",
      " 3   snowfall             87648 non-null  float64\n",
      " 4   temperature_2m       87648 non-null  float64\n",
      " 5   time                 87648 non-null  object \n",
      " 6   winddirection_10m    87630 non-null  float64\n",
      " 7   windspeed_10m        87648 non-null  float64\n",
      " 8   geo                  87648 non-null  object \n",
      "dtypes: float64(5), int64(2), object(2)\n",
      "memory usage: 6.0+ MB\n"
     ]
    }
   ],
   "source": [
    "weather_hourly_raw.info()"
   ]
  },
  {
   "cell_type": "code",
   "execution_count": null,
   "id": "d0e04bd0",
   "metadata": {},
   "outputs": [],
   "source": [
    "import datetime\n",
    "import numpy as np\n",
    "# imports should go to the top"
   ]
  },
  {
   "cell_type": "code",
   "execution_count": 31,
   "id": "d8d56642",
   "metadata": {},
   "outputs": [],
   "source": [
    "# slice of hourly to work with\n",
    "hourly_temp_df = weather_hourly_raw[['time', 'cloudcover', 'relativehumidity_2m',\n",
    "                                     'temperature_2m', 'windspeed_10m']].copy()"
   ]
  },
  {
   "cell_type": "code",
   "execution_count": 32,
   "id": "acfaaadc",
   "metadata": {},
   "outputs": [],
   "source": [
    "# convert the provided ISO string 'time' into a 'pure_date' in python datetime format\n",
    "# for aggregating and joining with daily data;\n",
    "# ==>> this should be done above, in intial datacleaning <<==\n",
    "\n",
    "hourly_temp_df[\"pure_date\"] = hourly_temp_df['time'].map(lambda x: \n",
    "                                                     datetime.datetime.fromisoformat(x[0:10]))"
   ]
  },
  {
   "cell_type": "code",
   "execution_count": 33,
   "id": "44694f36",
   "metadata": {},
   "outputs": [],
   "source": [
    "def enth(x, n):\n",
    "    return x.sort_values().iloc[n]"
   ]
  },
  {
   "cell_type": "code",
   "execution_count": 35,
   "id": "35849f8f",
   "metadata": {},
   "outputs": [
    {
     "data": {
      "text/html": [
       "<div>\n",
       "<style scoped>\n",
       "    .dataframe tbody tr th:only-of-type {\n",
       "        vertical-align: middle;\n",
       "    }\n",
       "\n",
       "    .dataframe tbody tr th {\n",
       "        vertical-align: top;\n",
       "    }\n",
       "\n",
       "    .dataframe thead th {\n",
       "        text-align: right;\n",
       "    }\n",
       "</style>\n",
       "<table border=\"1\" class=\"dataframe\">\n",
       "  <thead>\n",
       "    <tr style=\"text-align: right;\">\n",
       "      <th></th>\n",
       "      <th>humid_avg</th>\n",
       "      <th>wind_high</th>\n",
       "      <th>cloud_avg</th>\n",
       "      <th>temp_6</th>\n",
       "    </tr>\n",
       "    <tr>\n",
       "      <th>pure_date</th>\n",
       "      <th></th>\n",
       "      <th></th>\n",
       "      <th></th>\n",
       "      <th></th>\n",
       "    </tr>\n",
       "  </thead>\n",
       "  <tbody>\n",
       "    <tr>\n",
       "      <th>2010-01-01</th>\n",
       "      <td>51.916667</td>\n",
       "      <td>8.6</td>\n",
       "      <td>9.500000</td>\n",
       "      <td>22</td>\n",
       "    </tr>\n",
       "    <tr>\n",
       "      <th>2010-01-02</th>\n",
       "      <td>58.375000</td>\n",
       "      <td>8.6</td>\n",
       "      <td>9.458333</td>\n",
       "      <td>16</td>\n",
       "    </tr>\n",
       "    <tr>\n",
       "      <th>2010-01-03</th>\n",
       "      <td>56.708333</td>\n",
       "      <td>14.0</td>\n",
       "      <td>39.583333</td>\n",
       "      <td>58</td>\n",
       "    </tr>\n",
       "    <tr>\n",
       "      <th>2010-01-04</th>\n",
       "      <td>66.208333</td>\n",
       "      <td>10.2</td>\n",
       "      <td>22.958333</td>\n",
       "      <td>29</td>\n",
       "    </tr>\n",
       "    <tr>\n",
       "      <th>2010-01-05</th>\n",
       "      <td>48.416667</td>\n",
       "      <td>16.1</td>\n",
       "      <td>9.291667</td>\n",
       "      <td>7</td>\n",
       "    </tr>\n",
       "  </tbody>\n",
       "</table>\n",
       "</div>"
      ],
      "text/plain": [
       "            humid_avg  wind_high  cloud_avg  temp_6\n",
       "pure_date                                          \n",
       "2010-01-01  51.916667        8.6   9.500000      22\n",
       "2010-01-02  58.375000        8.6   9.458333      16\n",
       "2010-01-03  56.708333       14.0  39.583333      58\n",
       "2010-01-04  66.208333       10.2  22.958333      29\n",
       "2010-01-05  48.416667       16.1   9.291667       7"
      ]
     },
     "execution_count": 35,
     "metadata": {},
     "output_type": "execute_result"
    }
   ],
   "source": [
    "step1_df = \\\n",
    "hourly_temp_df.groupby('pure_date').agg(humid_avg=('relativehumidity_2m', np.mean),\n",
    "                                        wind_high = ('windspeed_10m', np.max),\n",
    "                                        cloud_avg=('cloudcover', np.mean),\n",
    "                                        temp_6= ('cloudcover', lambda x: enth(x,18)) )\n",
    "step1_df.head()"
   ]
  },
  {
   "cell_type": "markdown",
   "id": "a18a8c44",
   "metadata": {},
   "source": [
    "## slicing the chunk of daily to join"
   ]
  },
  {
   "cell_type": "code",
   "execution_count": 36,
   "id": "c15aee96",
   "metadata": {},
   "outputs": [
    {
     "data": {
      "text/plain": [
       "Index(['precipitation_hours', 'rain_sum', 'snowfall_sum', 'temperature_2m_max',\n",
       "       'temperature_2m_min', 'time', 'geo'],\n",
       "      dtype='object')"
      ]
     },
     "execution_count": 36,
     "metadata": {},
     "output_type": "execute_result"
    }
   ],
   "source": [
    "weather_daily_raw.columns"
   ]
  },
  {
   "cell_type": "code",
   "execution_count": 38,
   "id": "9ede97f2",
   "metadata": {},
   "outputs": [],
   "source": [
    "# get the columns we want, rename as per specs\n",
    "\n",
    "daily_temp_df = weather_daily_raw[['time', 'precipitation_hours', 'rain_sum',\n",
    "                                   'snowfall_sum', 'temperature_2m_max']].copy()\n",
    "\n",
    "daily_temp_df.rename(columns={'temperature_2m_max': 'temp_high'}, inplace=True)\n"
   ]
  },
  {
   "cell_type": "code",
   "execution_count": 40,
   "id": "803cf6df",
   "metadata": {},
   "outputs": [],
   "source": [
    "# convert the provided ISO string 'time' into a 'pure_date' in python datetime format\n",
    "# for aggregating and joining with daily data;\n",
    "# ==>> this should be done above, in intial datacleaning <<==\n",
    "\n",
    "daily_temp_df[\"pure_date\"] = daily_temp_df['time'].map(lambda x: \n",
    "                                                     datetime.datetime.fromisoformat(x[0:10]))"
   ]
  },
  {
   "cell_type": "code",
   "execution_count": 42,
   "id": "19d2fd78",
   "metadata": {},
   "outputs": [],
   "source": [
    "daily_temp_df.drop('time', axis=1, inplace=True)"
   ]
  },
  {
   "cell_type": "code",
   "execution_count": 43,
   "id": "9287656e",
   "metadata": {},
   "outputs": [],
   "source": [
    "daily_temp_df.set_index('pure_date', inplace=True)"
   ]
  },
  {
   "cell_type": "code",
   "execution_count": 44,
   "id": "15a5d71b",
   "metadata": {},
   "outputs": [
    {
     "data": {
      "text/html": [
       "<div>\n",
       "<style scoped>\n",
       "    .dataframe tbody tr th:only-of-type {\n",
       "        vertical-align: middle;\n",
       "    }\n",
       "\n",
       "    .dataframe tbody tr th {\n",
       "        vertical-align: top;\n",
       "    }\n",
       "\n",
       "    .dataframe thead th {\n",
       "        text-align: right;\n",
       "    }\n",
       "</style>\n",
       "<table border=\"1\" class=\"dataframe\">\n",
       "  <thead>\n",
       "    <tr style=\"text-align: right;\">\n",
       "      <th></th>\n",
       "      <th>precipitation_hours</th>\n",
       "      <th>rain_sum</th>\n",
       "      <th>snowfall_sum</th>\n",
       "      <th>temp_high</th>\n",
       "    </tr>\n",
       "    <tr>\n",
       "      <th>pure_date</th>\n",
       "      <th></th>\n",
       "      <th></th>\n",
       "      <th></th>\n",
       "      <th></th>\n",
       "    </tr>\n",
       "  </thead>\n",
       "  <tbody>\n",
       "    <tr>\n",
       "      <th>2010-01-01</th>\n",
       "      <td>0.0</td>\n",
       "      <td>0.00</td>\n",
       "      <td>0.0</td>\n",
       "      <td>50.9</td>\n",
       "    </tr>\n",
       "    <tr>\n",
       "      <th>2010-01-02</th>\n",
       "      <td>0.0</td>\n",
       "      <td>0.00</td>\n",
       "      <td>0.0</td>\n",
       "      <td>49.3</td>\n",
       "    </tr>\n",
       "    <tr>\n",
       "      <th>2010-01-03</th>\n",
       "      <td>0.0</td>\n",
       "      <td>0.00</td>\n",
       "      <td>0.0</td>\n",
       "      <td>47.0</td>\n",
       "    </tr>\n",
       "    <tr>\n",
       "      <th>2010-01-04</th>\n",
       "      <td>3.0</td>\n",
       "      <td>0.05</td>\n",
       "      <td>0.0</td>\n",
       "      <td>54.5</td>\n",
       "    </tr>\n",
       "    <tr>\n",
       "      <th>2010-01-05</th>\n",
       "      <td>1.0</td>\n",
       "      <td>0.00</td>\n",
       "      <td>0.0</td>\n",
       "      <td>51.4</td>\n",
       "    </tr>\n",
       "  </tbody>\n",
       "</table>\n",
       "</div>"
      ],
      "text/plain": [
       "            precipitation_hours  rain_sum  snowfall_sum  temp_high\n",
       "pure_date                                                         \n",
       "2010-01-01                  0.0      0.00           0.0       50.9\n",
       "2010-01-02                  0.0      0.00           0.0       49.3\n",
       "2010-01-03                  0.0      0.00           0.0       47.0\n",
       "2010-01-04                  3.0      0.05           0.0       54.5\n",
       "2010-01-05                  1.0      0.00           0.0       51.4"
      ]
     },
     "execution_count": 44,
     "metadata": {},
     "output_type": "execute_result"
    }
   ],
   "source": [
    "daily_temp_df.head()"
   ]
  },
  {
   "cell_type": "code",
   "execution_count": 45,
   "id": "ee2ac08c",
   "metadata": {},
   "outputs": [
    {
     "data": {
      "text/html": [
       "<div>\n",
       "<style scoped>\n",
       "    .dataframe tbody tr th:only-of-type {\n",
       "        vertical-align: middle;\n",
       "    }\n",
       "\n",
       "    .dataframe tbody tr th {\n",
       "        vertical-align: top;\n",
       "    }\n",
       "\n",
       "    .dataframe thead th {\n",
       "        text-align: right;\n",
       "    }\n",
       "</style>\n",
       "<table border=\"1\" class=\"dataframe\">\n",
       "  <thead>\n",
       "    <tr style=\"text-align: right;\">\n",
       "      <th></th>\n",
       "      <th>humid_avg</th>\n",
       "      <th>wind_high</th>\n",
       "      <th>cloud_avg</th>\n",
       "      <th>temp_6</th>\n",
       "      <th>precipitation_hours</th>\n",
       "      <th>rain_sum</th>\n",
       "      <th>snowfall_sum</th>\n",
       "      <th>temp_high</th>\n",
       "    </tr>\n",
       "    <tr>\n",
       "      <th>pure_date</th>\n",
       "      <th></th>\n",
       "      <th></th>\n",
       "      <th></th>\n",
       "      <th></th>\n",
       "      <th></th>\n",
       "      <th></th>\n",
       "      <th></th>\n",
       "      <th></th>\n",
       "    </tr>\n",
       "  </thead>\n",
       "  <tbody>\n",
       "    <tr>\n",
       "      <th>2010-01-01</th>\n",
       "      <td>51.916667</td>\n",
       "      <td>8.6</td>\n",
       "      <td>9.500000</td>\n",
       "      <td>22</td>\n",
       "      <td>0.0</td>\n",
       "      <td>0.00</td>\n",
       "      <td>0.0</td>\n",
       "      <td>50.9</td>\n",
       "    </tr>\n",
       "    <tr>\n",
       "      <th>2010-01-02</th>\n",
       "      <td>58.375000</td>\n",
       "      <td>8.6</td>\n",
       "      <td>9.458333</td>\n",
       "      <td>16</td>\n",
       "      <td>0.0</td>\n",
       "      <td>0.00</td>\n",
       "      <td>0.0</td>\n",
       "      <td>49.3</td>\n",
       "    </tr>\n",
       "    <tr>\n",
       "      <th>2010-01-03</th>\n",
       "      <td>56.708333</td>\n",
       "      <td>14.0</td>\n",
       "      <td>39.583333</td>\n",
       "      <td>58</td>\n",
       "      <td>0.0</td>\n",
       "      <td>0.00</td>\n",
       "      <td>0.0</td>\n",
       "      <td>47.0</td>\n",
       "    </tr>\n",
       "    <tr>\n",
       "      <th>2010-01-04</th>\n",
       "      <td>66.208333</td>\n",
       "      <td>10.2</td>\n",
       "      <td>22.958333</td>\n",
       "      <td>29</td>\n",
       "      <td>3.0</td>\n",
       "      <td>0.05</td>\n",
       "      <td>0.0</td>\n",
       "      <td>54.5</td>\n",
       "    </tr>\n",
       "    <tr>\n",
       "      <th>2010-01-05</th>\n",
       "      <td>48.416667</td>\n",
       "      <td>16.1</td>\n",
       "      <td>9.291667</td>\n",
       "      <td>7</td>\n",
       "      <td>1.0</td>\n",
       "      <td>0.00</td>\n",
       "      <td>0.0</td>\n",
       "      <td>51.4</td>\n",
       "    </tr>\n",
       "  </tbody>\n",
       "</table>\n",
       "</div>"
      ],
      "text/plain": [
       "            humid_avg  wind_high  cloud_avg  temp_6  precipitation_hours  \\\n",
       "pure_date                                                                  \n",
       "2010-01-01  51.916667        8.6   9.500000      22                  0.0   \n",
       "2010-01-02  58.375000        8.6   9.458333      16                  0.0   \n",
       "2010-01-03  56.708333       14.0  39.583333      58                  0.0   \n",
       "2010-01-04  66.208333       10.2  22.958333      29                  3.0   \n",
       "2010-01-05  48.416667       16.1   9.291667       7                  1.0   \n",
       "\n",
       "            rain_sum  snowfall_sum  temp_high  \n",
       "pure_date                                      \n",
       "2010-01-01      0.00           0.0       50.9  \n",
       "2010-01-02      0.00           0.0       49.3  \n",
       "2010-01-03      0.00           0.0       47.0  \n",
       "2010-01-04      0.05           0.0       54.5  \n",
       "2010-01-05      0.00           0.0       51.4  "
      ]
     },
     "execution_count": 45,
     "metadata": {},
     "output_type": "execute_result"
    }
   ],
   "source": [
    "step1_df = step1_df.join(daily_temp_df).head()"
   ]
  },
  {
   "cell_type": "code",
   "execution_count": null,
   "id": "e47f52d6",
   "metadata": {},
   "outputs": [],
   "source": []
  }
 ],
 "metadata": {
  "kernelspec": {
   "display_name": "Python 3 (ipykernel)",
   "language": "python",
   "name": "python3"
  },
  "language_info": {
   "codemirror_mode": {
    "name": "ipython",
    "version": 3
   },
   "file_extension": ".py",
   "mimetype": "text/x-python",
   "name": "python",
   "nbconvert_exporter": "python",
   "pygments_lexer": "ipython3",
   "version": "3.7.13"
  }
 },
 "nbformat": 4,
 "nbformat_minor": 5
}
