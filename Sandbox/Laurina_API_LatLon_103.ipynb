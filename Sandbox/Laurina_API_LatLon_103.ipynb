{
 "cells": [
  {
   "cell_type": "code",
   "execution_count": 24,
   "id": "fc528262",
   "metadata": {},
   "outputs": [],
   "source": [
    "import requests\n",
    "import pandas as pd\n",
    "import json"
   ]
  },
  {
   "cell_type": "code",
   "execution_count": 25,
   "id": "53dffe6b",
   "metadata": {},
   "outputs": [
    {
     "name": "stdout",
     "output_type": "stream",
     "text": [
      "Enter a Country using a 2-letter (US) or 3-letter (USA) country code: us\n",
      "Enter a region (City, County, State, etc.): california\n",
      "Enter a location (City, Zip Code, etc.): berkeley\n",
      "us california berkeley\n"
     ]
    }
   ],
   "source": [
    "country_input = (input(\"Enter a Country using a 2-letter (US) or 3-letter (USA) country code: \"))\n",
    "region_input = (input(\"Enter a region (City, County, State, etc.): \"))\n",
    "query_input = (input(\"Enter a location (City, Zip Code, etc.): \"))\n",
    "\n",
    "print(\n",
    "    country_input,\n",
    "    region_input,\n",
    "    query_input\n",
    ")"
   ]
  },
  {
   "cell_type": "code",
   "execution_count": 26,
   "id": "f43e25f1",
   "metadata": {},
   "outputs": [
    {
     "name": "stdout",
     "output_type": "stream",
     "text": [
      "{\"data\":[{\"latitude\":37.865832,\"longitude\":-122.297864,\"type\":\"locality\",\"name\":\"Berkeley\",\"number\":null,\"postal_code\":null,\"street\":null,\"confidence\":1,\"region\":\"California\",\"region_code\":\"CA\",\"county\":\"Alameda County\",\"locality\":\"Berkeley\",\"administrative_area\":null,\"neighbourhood\":null,\"country\":\"United States\",\"country_code\":\"USA\",\"continent\":\"North America\",\"label\":\"Berkeley, CA, USA\"}]}\n"
     ]
    }
   ],
   "source": [
    "import http.client, urllib.parse\n",
    "\n",
    "conn = http.client.HTTPConnection('api.positionstack.com')\n",
    "\n",
    "params = urllib.parse.urlencode({\n",
    "    'access_key': '1fbf7de4ce05274e9b9005659970c429',\n",
    "    \n",
    "    # Variables get live user input above.\n",
    "    'country': country_input,\n",
    "    'region': region_input,\n",
    "    'query': query_input,\n",
    "        \n",
    "    # \"limit\" of 1 ensures only 1 Lat/Lon will be passed below.    \n",
    "    'limit': 1\n",
    "    })\n",
    "\n",
    "conn.request('GET', '/v1/forward?{}'.format(params))\n",
    "\n",
    "res = conn.getresponse()\n",
    "geo = res.read()\n",
    "geo_str = (geo.decode('utf-8'))\n",
    "\n",
    "print(geo.decode('utf-8'))\n",
    "\n"
   ]
  },
  {
   "cell_type": "code",
   "execution_count": 27,
   "id": "9f34e1b3",
   "metadata": {},
   "outputs": [
    {
     "data": {
      "text/plain": [
       "str"
      ]
     },
     "execution_count": 27,
     "metadata": {},
     "output_type": "execute_result"
    }
   ],
   "source": [
    "# Help from AskBCS:\n",
    "# Result was one long string, that only looked \n",
    "# like a dictionary, but wasn't.\n",
    "# Use \"type()\" to identify whether or not \n",
    "# result is actually a dict.\n",
    "type(geo_str)"
   ]
  },
  {
   "cell_type": "code",
   "execution_count": 28,
   "id": "c63def54",
   "metadata": {},
   "outputs": [
    {
     "name": "stdout",
     "output_type": "stream",
     "text": [
      "{'data': [{'latitude': 37.865832, 'longitude': -122.297864, 'type': 'locality', 'name': 'Berkeley', 'number': None, 'postal_code': None, 'street': None, 'confidence': 1, 'region': 'California', 'region_code': 'CA', 'county': 'Alameda County', 'locality': 'Berkeley', 'administrative_area': None, 'neighbourhood': None, 'country': 'United States', 'country_code': 'USA', 'continent': 'North America', 'label': 'Berkeley, CA, USA'}]}\n"
     ]
    }
   ],
   "source": [
    "# Convert string to json (which is a dictionary).\n",
    "# geo_json\n",
    "geo_json = json.loads(geo_str)\n",
    "\n",
    "print(geo_json)"
   ]
  },
  {
   "cell_type": "code",
   "execution_count": 29,
   "id": "773410ac",
   "metadata": {},
   "outputs": [],
   "source": [
    "# Double parentheses are functional in the for loops."
   ]
  },
  {
   "cell_type": "code",
   "execution_count": 30,
   "id": "1c6e9a64",
   "metadata": {},
   "outputs": [],
   "source": [
    "# geo_json_coord\n",
    "\n",
    "geo_json_coord = geo_json['data']\n",
    "\n",
    "latlon_tup = []\n",
    "\n",
    "for x in geo_json_coord:\n",
    "    latlon_tup.append((x['latitude'], x['longitude']))"
   ]
  },
  {
   "cell_type": "code",
   "execution_count": 31,
   "id": "39986a3b",
   "metadata": {},
   "outputs": [],
   "source": [
    "# geo_json_labels\n",
    "\n",
    "geo_json_labels = geo_json['data']\n",
    "\n",
    "geo_labels = []\n",
    "\n",
    "for x in geo_json_labels:\n",
    "    geo_labels.append((x['name'], x['region'], x['country']))"
   ]
  },
  {
   "cell_type": "code",
   "execution_count": 32,
   "id": "bda30455",
   "metadata": {},
   "outputs": [
    {
     "name": "stdout",
     "output_type": "stream",
     "text": [
      "[(37.865832, -122.297864)] [('Berkeley', 'California', 'United States')]\n"
     ]
    }
   ],
   "source": [
    "print(\n",
    "    latlon_tup,\n",
    "    geo_labels\n",
    "     )"
   ]
  },
  {
   "cell_type": "code",
   "execution_count": 33,
   "id": "16842079",
   "metadata": {},
   "outputs": [],
   "source": [
    "# data_json_lat\n",
    "\n",
    "geo_json_lat = geo_json['data']\n",
    "\n",
    "var_lat = []\n",
    "\n",
    "for x in geo_json_lat:\n",
    "    var_lat.append((x['latitude']))"
   ]
  },
  {
   "cell_type": "code",
   "execution_count": 34,
   "id": "3d3fe8e6",
   "metadata": {},
   "outputs": [
    {
     "data": {
      "text/plain": [
       "37.865832"
      ]
     },
     "execution_count": 34,
     "metadata": {},
     "output_type": "execute_result"
    }
   ],
   "source": [
    "var_lat[0]"
   ]
  },
  {
   "cell_type": "code",
   "execution_count": 35,
   "id": "296d7cc9",
   "metadata": {},
   "outputs": [],
   "source": [
    "# data_json_lon\n",
    "\n",
    "geo_json_lon = geo_json['data']\n",
    "\n",
    "var_lon = []\n",
    "\n",
    "for x in geo_json_lon:\n",
    "    var_lon.append((x['longitude']))"
   ]
  },
  {
   "cell_type": "code",
   "execution_count": 36,
   "id": "c0104f93",
   "metadata": {},
   "outputs": [
    {
     "data": {
      "text/plain": [
       "-122.297864"
      ]
     },
     "execution_count": 36,
     "metadata": {},
     "output_type": "execute_result"
    }
   ],
   "source": [
    "var_lon[0]"
   ]
  },
  {
   "cell_type": "markdown",
   "id": "c5ab0c5f",
   "metadata": {},
   "source": [
    "HTTP GET Request Parameters:\n",
    "\n",
    "## query\t[Required] Specify your query as a free-text address, place name or using any other common text-based location identifier (e.g. postal code, city name, region name).\n",
    "\n"
   ]
  },
  {
   "cell_type": "code",
   "execution_count": 37,
   "id": "6082abea",
   "metadata": {},
   "outputs": [],
   "source": [
    "# # # Load the dataset.\n",
    "# # # rename columns because provided column headers contain non-ascii characters\n",
    "# # file_path =\"hourly.csv\"\n",
    "# # hourly_columns = ['time',\n",
    "# #            'temperature_2m_degF', \n",
    "# #            'relativehumidity_2m_perc', \n",
    "# #            'rain_inch',\n",
    "# #            'snowfall_cm', \n",
    "# #            'cloudcover_perc', \n",
    "# #            'windspeed_10m_mph',\n",
    "# #            'winddirection_10m_deg']\n",
    "\n",
    "# We pulled data from 2000-01-01 to 2020-12-31.\n",
    "# We took temperature, humidity, rainfal, snowfal, cloudcover, windspeed, and wind-direction hourly.\n",
    "\n",
    "# We will also take max temp, min temp, rain, snow, and percip-hours daily.\n",
    "# These will need separate and different dataframe processing.\n",
    "# We are taking in data via downloaded csv, and we need separate daily/hourly csv files because different column headers, numbers of columns."
   ]
  },
  {
   "cell_type": "markdown",
   "id": "f1a80470",
   "metadata": {},
   "source": [
    "https://archive-api.open-meteo.com/v1/era5?latitude=52.52&longitude=13.41&start_date=2000-01-01&end_date=2020-12-31&hourly=temperature_2m,relativehumidity_2m,rain,snowfall,cloudcover,windspeed_10m,winddirection_10m&timezone=America%2FLos_Angeles&temperature_unit=fahrenheit&windspeed_unit=mph&precipitation_unit=inch"
   ]
  },
  {
   "cell_type": "markdown",
   "id": "102443bf",
   "metadata": {},
   "source": [
    "https://archive-api.open-meteo.com/v1/era5?\n",
    "\n",
    "    latitude=52.52\n",
    "    \n",
    "    &\n",
    "    longitude=13.41\n",
    "    \n",
    "    \n",
    "    &start_date=2000-01-01&end_date=2020-12-31&hourly=temperature_2m,relativehumidity_2m,rain,snowfall,cloudcover,windspeed_10m,winddirection_10m&timezone=America%2FLos_Angeles&temperature_unit=fahrenheit&windspeed_unit=mph&precipitation_unit=inch"
   ]
  },
  {
   "cell_type": "code",
   "execution_count": 58,
   "id": "cc81cbe8",
   "metadata": {},
   "outputs": [],
   "source": [
    "url_snip_1 = \"https://archive-api.open-meteo.com/v1/era5?latitude=\" \n",
    "url_snip_2 = str(var_lat[0])   # input from user\n",
    "url_snip_3 = \"&longitude=\"\n",
    "url_snip_4 = str(var_lon[0])   # input from user\n",
    "\n",
    "url_snip_5 = \"&start_date=\"\n",
    "url_snip_6 = \"2020-12-31\"   # start date\n",
    "url_snip_7 = \"&end_date=\"\n",
    "url_snip_8 = \"2020-12-31\"   # end date\n",
    "\n",
    "url_snip_9 = \"&hourly=\"   # elements, hourly\n",
    "url_snip_10 = \"temperature_2m,\"   # data element\n",
    "url_snip_11 = \"relativehumidity_2m,\"   # data element\n",
    "url_snip_12 = \"rain,snowfall,\"   # data element\n",
    "url_snip_13 = \"cloudcover,\"   # data element\n",
    "url_snip_14 = \"windspeed_10m,\"   # data element\n",
    "url_snip_15 = \"winddirection_10m\"   # data element\n",
    "\n",
    "url_snip_16 = \"&timezone=America%2FLos_Angeles\"   # time zone\n",
    "url_snip_17 = \"&temperature_unit=fahrenheit\"   # temp unit\n",
    "url_snip_18 = \"&windspeed_unit=mph\"   # windspeed unit\n",
    "url_snip_19 = \"&precipitation_unit=inch\"   # precip unit"
   ]
  },
  {
   "cell_type": "code",
   "execution_count": 59,
   "id": "7f5a07d7",
   "metadata": {},
   "outputs": [],
   "source": [
    "# Contatenate the url snippets.\n",
    "\n",
    "url_concat_full = \\\n",
    "    url_snip_1 + \\\n",
    "    url_snip_2 + \\\n",
    "    url_snip_3 + \\\n",
    "    url_snip_4 + \\\n",
    "    url_snip_5 + \\\n",
    "    url_snip_6 + \\\n",
    "    url_snip_7 + \\\n",
    "    url_snip_8 + \\\n",
    "    url_snip_9 + \\\n",
    "    url_snip_10 + \\\n",
    "    url_snip_11 + \\\n",
    "    url_snip_12 + \\\n",
    "    url_snip_13 + \\\n",
    "    url_snip_14 + \\\n",
    "    url_snip_15 + \\\n",
    "    url_snip_16 + \\\n",
    "    url_snip_17 + \\\n",
    "    url_snip_18 + \\\n",
    "    url_snip_19"
   ]
  },
  {
   "cell_type": "code",
   "execution_count": 60,
   "id": "813deb42",
   "metadata": {},
   "outputs": [
    {
     "name": "stdout",
     "output_type": "stream",
     "text": [
      "https://archive-api.open-meteo.com/v1/era5?latitude=37.865832&longitude=-122.297864&start_date=2020-12-31&end_date=2020-12-31&hourly=temperature_2m,relativehumidity_2m,rain,snowfall,cloudcover,windspeed_10m,winddirection_10m&timezone=America%2FLos_Angeles&temperature_unit=fahrenheit&windspeed_unit=mph&precipitation_unit=inch\n"
     ]
    }
   ],
   "source": [
    "print(url_concat_full)"
   ]
  },
  {
   "cell_type": "code",
   "execution_count": 61,
   "id": "954ed42e",
   "metadata": {},
   "outputs": [],
   "source": [
    "weather_str = requests.get(url_concat_full).text"
   ]
  },
  {
   "cell_type": "code",
   "execution_count": 62,
   "id": "72bd699c",
   "metadata": {},
   "outputs": [],
   "source": [
    "weather_json = json.loads(weather_str)"
   ]
  },
  {
   "cell_type": "code",
   "execution_count": 63,
   "id": "b9adbe53",
   "metadata": {},
   "outputs": [
    {
     "data": {
      "text/plain": [
       "dict"
      ]
     },
     "execution_count": 63,
     "metadata": {},
     "output_type": "execute_result"
    }
   ],
   "source": [
    "type(weather_json)"
   ]
  },
  {
   "cell_type": "code",
   "execution_count": 64,
   "id": "da2e5427",
   "metadata": {},
   "outputs": [],
   "source": [
    "# {\n",
    "#     \"latitude\":45.5,\n",
    "#     \"longitude\":-122.75,\n",
    "#     \"generationtime_ms\":29.542088508605957,\n",
    "#     \"utc_offset_seconds\":-25200,\n",
    "#     \"timezone\":\"America/Los_Angeles\",\n",
    "#     \"timezone_abbreviation\":\"PDT\",\n",
    "#     \"elevation\":115.0,\n",
    "#     \"hourly_units\":\n",
    "    \n",
    "#     {\n",
    "#         \"time\":\"iso8601\",\n",
    "#         \"temperature_2m\":\"°F\",\n",
    "#         \"relativehumidity_2m\":\"%\",\n",
    "#         \"rain\":\"inch\",\n",
    "#         \"snowfall\":\"cm\",\n",
    "#         \"cloudcover\":\"%\",\n",
    "#         \"windspeed_10m\":\"mp/h\",\n",
    "#         \"winddirection_10m\":\"°\"\n",
    "#     },\n",
    "    \n",
    "#     \"hourly\":\n",
    "    \n",
    "#     {\n",
    "#     \"time\":[\n",
    "#             \"2000-01-01T00:00\", ------> the entire set of lists\n",
    "#            ]\n",
    "#     }\n",
    "# }\n",
    "\n",
    "##############################################################\n",
    "\n",
    "\n",
    "# {'data': [{'latitude': 37.865832, 'longitude': -122.297864,"
   ]
  },
  {
   "cell_type": "code",
   "execution_count": 65,
   "id": "14de2e89",
   "metadata": {},
   "outputs": [
    {
     "data": {
      "text/plain": [
       "{'latitude': 37.75,\n",
       " 'longitude': -122.25,\n",
       " 'generationtime_ms': 11.570096015930176,\n",
       " 'utc_offset_seconds': -25200,\n",
       " 'timezone': 'America/Los_Angeles',\n",
       " 'timezone_abbreviation': 'PDT',\n",
       " 'elevation': 79.0,\n",
       " 'hourly_units': {'time': 'iso8601',\n",
       "  'temperature_2m': '°F',\n",
       "  'relativehumidity_2m': '%',\n",
       "  'rain': 'inch',\n",
       "  'snowfall': 'cm',\n",
       "  'cloudcover': '%',\n",
       "  'windspeed_10m': 'mp/h',\n",
       "  'winddirection_10m': '°'},\n",
       " 'hourly': {'time': ['2020-12-31T00:00',\n",
       "   '2020-12-31T01:00',\n",
       "   '2020-12-31T02:00',\n",
       "   '2020-12-31T03:00',\n",
       "   '2020-12-31T04:00',\n",
       "   '2020-12-31T05:00',\n",
       "   '2020-12-31T06:00',\n",
       "   '2020-12-31T07:00',\n",
       "   '2020-12-31T08:00',\n",
       "   '2020-12-31T09:00',\n",
       "   '2020-12-31T10:00',\n",
       "   '2020-12-31T11:00',\n",
       "   '2020-12-31T12:00',\n",
       "   '2020-12-31T13:00',\n",
       "   '2020-12-31T14:00',\n",
       "   '2020-12-31T15:00',\n",
       "   '2020-12-31T16:00',\n",
       "   '2020-12-31T17:00',\n",
       "   '2020-12-31T18:00',\n",
       "   '2020-12-31T19:00',\n",
       "   '2020-12-31T20:00',\n",
       "   '2020-12-31T21:00',\n",
       "   '2020-12-31T22:00',\n",
       "   '2020-12-31T23:00'],\n",
       "  'temperature_2m': [53.4,\n",
       "   54.4,\n",
       "   53.7,\n",
       "   52.1,\n",
       "   51.1,\n",
       "   48.2,\n",
       "   47.2,\n",
       "   46.8,\n",
       "   46.1,\n",
       "   46.1,\n",
       "   49.5,\n",
       "   51.9,\n",
       "   53.7,\n",
       "   55.6,\n",
       "   58.2,\n",
       "   60.3,\n",
       "   60.4,\n",
       "   59.7,\n",
       "   57.0,\n",
       "   55.1,\n",
       "   51.8,\n",
       "   49.9,\n",
       "   49.3,\n",
       "   47.9],\n",
       "  'relativehumidity_2m': [91,\n",
       "   89,\n",
       "   88,\n",
       "   92,\n",
       "   91,\n",
       "   90,\n",
       "   89,\n",
       "   90,\n",
       "   88,\n",
       "   87,\n",
       "   83,\n",
       "   79,\n",
       "   74,\n",
       "   70,\n",
       "   55,\n",
       "   53,\n",
       "   53,\n",
       "   57,\n",
       "   66,\n",
       "   71,\n",
       "   83,\n",
       "   86,\n",
       "   86,\n",
       "   85],\n",
       "  'rain': [0.008,\n",
       "   0.008,\n",
       "   0.008,\n",
       "   0.0,\n",
       "   0.0,\n",
       "   0.0,\n",
       "   0.0,\n",
       "   0.0,\n",
       "   0.0,\n",
       "   0.0,\n",
       "   0.0,\n",
       "   0.0,\n",
       "   0.0,\n",
       "   0.0,\n",
       "   0.0,\n",
       "   0.0,\n",
       "   0.0,\n",
       "   0.0,\n",
       "   0.0,\n",
       "   0.0,\n",
       "   0.0,\n",
       "   0.0,\n",
       "   0.0,\n",
       "   0.0],\n",
       "  'snowfall': [0.0,\n",
       "   0.0,\n",
       "   0.0,\n",
       "   0.0,\n",
       "   0.0,\n",
       "   0.0,\n",
       "   0.0,\n",
       "   0.0,\n",
       "   0.0,\n",
       "   0.0,\n",
       "   0.0,\n",
       "   0.0,\n",
       "   0.0,\n",
       "   0.0,\n",
       "   0.0,\n",
       "   0.0,\n",
       "   0.0,\n",
       "   0.0,\n",
       "   0.0,\n",
       "   0.0,\n",
       "   0.0,\n",
       "   0.0,\n",
       "   0.0,\n",
       "   0.0],\n",
       "  'cloudcover': [75,\n",
       "   70,\n",
       "   56,\n",
       "   21,\n",
       "   2,\n",
       "   0,\n",
       "   4,\n",
       "   0,\n",
       "   0,\n",
       "   3,\n",
       "   4,\n",
       "   13,\n",
       "   18,\n",
       "   22,\n",
       "   24,\n",
       "   23,\n",
       "   25,\n",
       "   22,\n",
       "   16,\n",
       "   4,\n",
       "   1,\n",
       "   2,\n",
       "   6,\n",
       "   10],\n",
       "  'windspeed_10m': [8.5,\n",
       "   11.4,\n",
       "   10.1,\n",
       "   8.6,\n",
       "   8.3,\n",
       "   9.1,\n",
       "   7.9,\n",
       "   6.4,\n",
       "   5.5,\n",
       "   4.5,\n",
       "   4.6,\n",
       "   4.5,\n",
       "   6.4,\n",
       "   8.5,\n",
       "   8.4,\n",
       "   8.2,\n",
       "   7.8,\n",
       "   6.2,\n",
       "   5.2,\n",
       "   6.0,\n",
       "   5.4,\n",
       "   4.5,\n",
       "   4.0,\n",
       "   4.8],\n",
       "  'winddirection_10m': [240,\n",
       "   286,\n",
       "   301,\n",
       "   307,\n",
       "   297,\n",
       "   298,\n",
       "   320,\n",
       "   335,\n",
       "   339,\n",
       "   342,\n",
       "   337,\n",
       "   340,\n",
       "   324,\n",
       "   313,\n",
       "   316,\n",
       "   313,\n",
       "   311,\n",
       "   296,\n",
       "   280,\n",
       "   283,\n",
       "   287,\n",
       "   290,\n",
       "   286,\n",
       "   283]}}"
      ]
     },
     "execution_count": 65,
     "metadata": {},
     "output_type": "execute_result"
    }
   ],
   "source": [
    "weather_json"
   ]
  },
  {
   "cell_type": "code",
   "execution_count": 66,
   "id": "fab56c26",
   "metadata": {},
   "outputs": [
    {
     "data": {
      "text/plain": [
       "['2020-12-31T00:00',\n",
       " '2020-12-31T01:00',\n",
       " '2020-12-31T02:00',\n",
       " '2020-12-31T03:00',\n",
       " '2020-12-31T04:00',\n",
       " '2020-12-31T05:00',\n",
       " '2020-12-31T06:00',\n",
       " '2020-12-31T07:00',\n",
       " '2020-12-31T08:00',\n",
       " '2020-12-31T09:00']"
      ]
     },
     "execution_count": 66,
     "metadata": {},
     "output_type": "execute_result"
    }
   ],
   "source": [
    "# time = weather_json.get('hourly')\n",
    "time = weather_json['hourly']['time'][0:10]\n",
    "time"
   ]
  },
  {
   "cell_type": "code",
   "execution_count": 67,
   "id": "6591910f",
   "metadata": {},
   "outputs": [],
   "source": [
    "# weather_time\n",
    "\n",
    "weather_list_time = weather_json['hourly']['time']\n",
    "# weather_list = weather_json['hourly']\n",
    "\n",
    "weather_time = []\n",
    "\n",
    "for x in weather_list_time:\n",
    "    weather_time.append((x[0:]))\n",
    "#     weather_time.append((x['time']))"
   ]
  },
  {
   "cell_type": "code",
   "execution_count": 68,
   "id": "e69bac90",
   "metadata": {
    "scrolled": true
   },
   "outputs": [
    {
     "data": {
      "text/plain": [
       "['2020-12-31T00:00',\n",
       " '2020-12-31T01:00',\n",
       " '2020-12-31T02:00',\n",
       " '2020-12-31T03:00',\n",
       " '2020-12-31T04:00',\n",
       " '2020-12-31T05:00',\n",
       " '2020-12-31T06:00',\n",
       " '2020-12-31T07:00',\n",
       " '2020-12-31T08:00',\n",
       " '2020-12-31T09:00']"
      ]
     },
     "execution_count": 68,
     "metadata": {},
     "output_type": "execute_result"
    }
   ],
   "source": [
    "weather_time[0:10]"
   ]
  },
  {
   "cell_type": "code",
   "execution_count": 69,
   "id": "b3d255a2",
   "metadata": {},
   "outputs": [
    {
     "ename": "TypeError",
     "evalue": "string indices must be integers",
     "output_type": "error",
     "traceback": [
      "\u001b[1;31m---------------------------------------------------------------------------\u001b[0m",
      "\u001b[1;31mTypeError\u001b[0m                                 Traceback (most recent call last)",
      "Input \u001b[1;32mIn [69]\u001b[0m, in \u001b[0;36m<cell line: 8>\u001b[1;34m()\u001b[0m\n\u001b[0;32m      6\u001b[0m weather_temp \u001b[38;5;241m=\u001b[39m []\n\u001b[0;32m      8\u001b[0m \u001b[38;5;28;01mfor\u001b[39;00m x \u001b[38;5;129;01min\u001b[39;00m weather_list_temp:\n\u001b[1;32m----> 9\u001b[0m     weather_temp\u001b[38;5;241m.\u001b[39mappend((\u001b[43mx\u001b[49m\u001b[43m[\u001b[49m\u001b[38;5;124;43m'\u001b[39;49m\u001b[38;5;124;43mtemperature_2m\u001b[39;49m\u001b[38;5;124;43m'\u001b[39;49m\u001b[43m]\u001b[49m))\n",
      "\u001b[1;31mTypeError\u001b[0m: string indices must be integers"
     ]
    }
   ],
   "source": [
    "# weather_temp\n",
    "# temperature_2m\n",
    "\n",
    "weather_list_temp = weather_json['hourly']\n",
    "\n",
    "weather_temp = []\n",
    "\n",
    "for x in weather_list_temp:\n",
    "    weather_temp.append((x['temperature_2m']))"
   ]
  },
  {
   "cell_type": "code",
   "execution_count": 70,
   "id": "eb63507d",
   "metadata": {},
   "outputs": [
    {
     "data": {
      "text/plain": [
       "[]"
      ]
     },
     "execution_count": 70,
     "metadata": {},
     "output_type": "execute_result"
    }
   ],
   "source": [
    "weather_temp[0:10]"
   ]
  },
  {
   "cell_type": "code",
   "execution_count": null,
   "id": "9287656e",
   "metadata": {},
   "outputs": [],
   "source": []
  }
 ],
 "metadata": {
  "kernelspec": {
   "display_name": "PythonData",
   "language": "python",
   "name": "myenv"
  },
  "language_info": {
   "codemirror_mode": {
    "name": "ipython",
    "version": 3
   },
   "file_extension": ".py",
   "mimetype": "text/x-python",
   "name": "python",
   "nbconvert_exporter": "python",
   "pygments_lexer": "ipython3",
   "version": "3.9.12"
  }
 },
 "nbformat": 4,
 "nbformat_minor": 5
}
